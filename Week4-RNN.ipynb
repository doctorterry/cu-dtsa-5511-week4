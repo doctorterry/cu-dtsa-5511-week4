{
 "cells": [
  {
   "cell_type": "markdown",
   "id": "d55703a6-dc0a-43cb-b293-4de8c65e65c0",
   "metadata": {},
   "source": [
    "# DTSA-5511:  Week 4 - RNN Kaggle Mini Project\n",
    "\n",
    "## Natural Language Processing with Disaster Tweets"
   ]
  },
  {
   "cell_type": "markdown",
   "id": "96069df9-0126-4099-a19b-6cc87dbfac84",
   "metadata": {},
   "source": [
    "## Part 1: Brief Description of the Problem and Data "
   ]
  },
  {
   "cell_type": "markdown",
   "id": "c0cdcc7c-7e78-4afa-80a1-834a44c4b802",
   "metadata": {},
   "source": [
    " "
   ]
  },
  {
   "cell_type": "markdown",
   "id": "cdc189df-dd30-41a1-8df1-dca53e01c44b",
   "metadata": {},
   "source": [
    "This project involves building a model that can predict whether a given Tweet is about a real distaster or not. This will involve building an ANN to perform binary classification of the text data. The labels will either be \"1\" for true or \"0\" for a false disaster Tweet.\n",
    "\n",
    "The data consists of three CSV files. The first file is a training file that along with the data, also has the classification of the Tweet as true or false. The test file not surprisingly has the same data minus the classification column. Lastly, a sample submission file has also been included.\n",
    "\n",
    "Mini Project link:\n",
    "https://www.kaggle.com/competitions/nlp-getting-started/overview"
   ]
  },
  {
   "cell_type": "code",
   "execution_count": 1,
   "id": "eff1e8cd-2cff-43f9-b1c9-d8ed9be234fc",
   "metadata": {},
   "outputs": [],
   "source": [
    "# The below code is implemented simply to supress warnings when running this model on my system.\n",
    "\n",
    "def import_tensorflow():\n",
    "    # Filter tensorflow version warnings\n",
    "    import os\n",
    "    # https://stackoverflow.com/questions/40426502/is-there-a-way-to-suppress-the-messages-tensorflow-prints/40426709\n",
    "    os.environ['TF_CPP_MIN_LOG_LEVEL'] = '3'  # or any {'0', '1', '2'}\n",
    "    import warnings\n",
    "    # https://stackoverflow.com/questions/15777951/how-to-suppress-pandas-future-warning\n",
    "    warnings.simplefilter(action='ignore', category=FutureWarning)\n",
    "    warnings.simplefilter(action='ignore', category=Warning)\n",
    "    import tensorflow as tf\n",
    "    tf.get_logger().setLevel('INFO')\n",
    "    tf.autograph.set_verbosity(0)\n",
    "    import logging\n",
    "    tf.get_logger().setLevel(logging.ERROR)\n",
    "    return tf\n",
    "\n",
    "tf = import_tensorflow()    "
   ]
  },
  {
   "cell_type": "code",
   "execution_count": 2,
   "id": "2dc6d744-cfef-40df-b42c-6aa059350c3a",
   "metadata": {},
   "outputs": [],
   "source": [
    "import numpy as np\n",
    "import pandas as pd\n",
    "import matplotlib.pylab as plt\n",
    "import seaborn as sns\n",
    "import tensorflow.keras as keras\n",
    "import time\n",
    "import itertools\n",
    "from tensorflow.keras.preprocessing.text import Tokenizer\n",
    "from tensorflow.keras.preprocessing.sequence import pad_sequences\n",
    "from keras.models import Sequential, Model\n",
    "from keras.layers import Dense, Flatten, BatchNormalization, Activation, LSTM, CuDNNLSTM, Embedding, Dropout\n",
    "from keras.optimizers import Adam, RMSprop\n",
    "\n",
    "# To stop pandas from truncating lists\n",
    "pd.options.display.max_rows = 4000\n",
    "\n",
    "# for text processing\n",
    "import re\n",
    "import nltk\n",
    "from nltk.corpus import stopwords\n",
    "from nltk.stem import PorterStemmer\n",
    "\n",
    "# for model training\n",
    "from sklearn.model_selection import train_test_split"
   ]
  },
  {
   "cell_type": "code",
   "execution_count": 59,
   "id": "3a5f94da-59d9-4bf2-9f84-a0b240edf849",
   "metadata": {},
   "outputs": [],
   "source": [
    "#nltk.download('stopwords')\n",
    "#nltk.download('punkt')\n",
    "#nltk.download('wordnet')\n",
    "#nltk.download('omw-1.4')\n",
    "#nltk.download('averaged_perceptron_tagger')"
   ]
  },
  {
   "cell_type": "code",
   "execution_count": 4,
   "id": "e7384345-1611-4c59-9613-3cc942e91ba1",
   "metadata": {},
   "outputs": [
    {
     "name": "stdout",
     "output_type": "stream",
     "text": [
      "TensorFlow version = 2.12.0\n",
      "\n"
     ]
    }
   ],
   "source": [
    "print(f\"TensorFlow version = {tf.__version__}\\n\")"
   ]
  },
  {
   "cell_type": "code",
   "execution_count": 5,
   "id": "8767e763-144f-4217-9771-c28384ad5b86",
   "metadata": {},
   "outputs": [
    {
     "name": "stdout",
     "output_type": "stream",
     "text": [
      "NVidia CUDA GPU information:\n",
      "\n",
      "1 Physical GPUs, 1 Logical GPUs\n",
      "[PhysicalDevice(name='/physical_device:GPU:0', device_type='GPU')]\n",
      "\n",
      "\n"
     ]
    }
   ],
   "source": [
    "# Detect the presence of the GPU on this system. Also limit the memory growth to avoid having the model consume all the system memory.\n",
    "\n",
    "gpus = tf.config.list_physical_devices('GPU')\n",
    "if gpus:\n",
    "    try:\n",
    "        # Currently, memory growth needs to be the same across GPUs\n",
    "        for gpu in gpus:\n",
    "            tf.config.experimental.set_memory_growth(gpu, True)\n",
    "        logical_gpus = tf.config.list_logical_devices('GPU')\n",
    "        print(\"NVidia CUDA GPU information:\\n\")\n",
    "        print(len(gpus), \"Physical GPUs,\", len(logical_gpus), \"Logical GPUs\")\n",
    "        print(gpus)\n",
    "        print(\"\\n\")\n",
    "        #!nvidia-smi\n",
    "    except RuntimeError as e:\n",
    "        # Memory growth must be set before GPUs have been initialized\n",
    "        print(e)"
   ]
  },
  {
   "cell_type": "markdown",
   "id": "10cd0a7a-642b-4a11-bcd6-69e218ebe187",
   "metadata": {},
   "source": [
    " "
   ]
  },
  {
   "cell_type": "markdown",
   "id": "9a79f81e-806f-408c-9309-97facc0a4165",
   "metadata": {},
   "source": [
    "## Part 2: Exploratory Data Analysis (EDA)"
   ]
  },
  {
   "cell_type": "markdown",
   "id": "aac8a453-4481-4f4c-bd14-4bc64d33d850",
   "metadata": {},
   "source": [
    " "
   ]
  },
  {
   "cell_type": "markdown",
   "id": "f322c7f4-773b-47a6-867e-e7d9d19c7eed",
   "metadata": {},
   "source": [
    "Connect the model to the data directories on this system."
   ]
  },
  {
   "cell_type": "code",
   "execution_count": 6,
   "id": "8b3d05d6-3427-42c1-ac6b-579c089f9bb3",
   "metadata": {},
   "outputs": [],
   "source": [
    "base_dir = './Data'\n",
    "\n",
    "data_train = pd.read_csv(f'{base_dir}/train.csv')\n",
    "data_test = pd.read_csv(f'{base_dir}/test.csv')"
   ]
  },
  {
   "cell_type": "markdown",
   "id": "537c652f-f116-4f2d-a9fd-b1257480c9fa",
   "metadata": {},
   "source": [
    " "
   ]
  },
  {
   "cell_type": "markdown",
   "id": "010471df-5202-4bce-8541-183e4a6383e5",
   "metadata": {},
   "source": [
    "We will first begin by examining the train dataset. Looking at the shape, we can see that the set contains 7613 observations with 5 pieces of data."
   ]
  },
  {
   "cell_type": "code",
   "execution_count": 7,
   "id": "48c9d7d6-f2c5-4d00-99a9-ffc20c73cbda",
   "metadata": {},
   "outputs": [
    {
     "data": {
      "text/plain": [
       "(7613, 5)"
      ]
     },
     "execution_count": 7,
     "metadata": {},
     "output_type": "execute_result"
    }
   ],
   "source": [
    "data_train.shape"
   ]
  },
  {
   "cell_type": "markdown",
   "id": "a3e9e0ea-6a67-4582-9371-293f95debc03",
   "metadata": {},
   "source": [
    " "
   ]
  },
  {
   "cell_type": "markdown",
   "id": "f3c3a54e-be94-4e80-8262-365c55f6f58e",
   "metadata": {},
   "source": [
    "Now let us take a look at the dataset itself.  "
   ]
  },
  {
   "cell_type": "code",
   "execution_count": 8,
   "id": "532eb583-729e-47cc-8375-8371de3d1e8a",
   "metadata": {},
   "outputs": [
    {
     "name": "stdout",
     "output_type": "stream",
     "text": [
      "<class 'pandas.core.frame.DataFrame'>\n",
      "RangeIndex: 7613 entries, 0 to 7612\n",
      "Data columns (total 5 columns):\n",
      " #   Column    Non-Null Count  Dtype \n",
      "---  ------    --------------  ----- \n",
      " 0   id        7613 non-null   int64 \n",
      " 1   keyword   7552 non-null   object\n",
      " 2   location  5080 non-null   object\n",
      " 3   text      7613 non-null   object\n",
      " 4   target    7613 non-null   int64 \n",
      "dtypes: int64(2), object(3)\n",
      "memory usage: 297.5+ KB\n"
     ]
    }
   ],
   "source": [
    "data_train.info()"
   ]
  },
  {
   "cell_type": "code",
   "execution_count": 9,
   "id": "85d45da3-fd29-47f6-86cd-73e209ccc0f0",
   "metadata": {},
   "outputs": [
    {
     "data": {
      "text/html": [
       "<div>\n",
       "<style scoped>\n",
       "    .dataframe tbody tr th:only-of-type {\n",
       "        vertical-align: middle;\n",
       "    }\n",
       "\n",
       "    .dataframe tbody tr th {\n",
       "        vertical-align: top;\n",
       "    }\n",
       "\n",
       "    .dataframe thead th {\n",
       "        text-align: right;\n",
       "    }\n",
       "</style>\n",
       "<table border=\"1\" class=\"dataframe\">\n",
       "  <thead>\n",
       "    <tr style=\"text-align: right;\">\n",
       "      <th></th>\n",
       "      <th>id</th>\n",
       "      <th>keyword</th>\n",
       "      <th>location</th>\n",
       "      <th>text</th>\n",
       "      <th>target</th>\n",
       "    </tr>\n",
       "  </thead>\n",
       "  <tbody>\n",
       "    <tr>\n",
       "      <th>0</th>\n",
       "      <td>1</td>\n",
       "      <td>NaN</td>\n",
       "      <td>NaN</td>\n",
       "      <td>Our Deeds are the Reason of this #earthquake M...</td>\n",
       "      <td>1</td>\n",
       "    </tr>\n",
       "    <tr>\n",
       "      <th>1</th>\n",
       "      <td>4</td>\n",
       "      <td>NaN</td>\n",
       "      <td>NaN</td>\n",
       "      <td>Forest fire near La Ronge Sask. Canada</td>\n",
       "      <td>1</td>\n",
       "    </tr>\n",
       "    <tr>\n",
       "      <th>2</th>\n",
       "      <td>5</td>\n",
       "      <td>NaN</td>\n",
       "      <td>NaN</td>\n",
       "      <td>All residents asked to 'shelter in place' are ...</td>\n",
       "      <td>1</td>\n",
       "    </tr>\n",
       "    <tr>\n",
       "      <th>3</th>\n",
       "      <td>6</td>\n",
       "      <td>NaN</td>\n",
       "      <td>NaN</td>\n",
       "      <td>13,000 people receive #wildfires evacuation or...</td>\n",
       "      <td>1</td>\n",
       "    </tr>\n",
       "    <tr>\n",
       "      <th>4</th>\n",
       "      <td>7</td>\n",
       "      <td>NaN</td>\n",
       "      <td>NaN</td>\n",
       "      <td>Just got sent this photo from Ruby #Alaska as ...</td>\n",
       "      <td>1</td>\n",
       "    </tr>\n",
       "    <tr>\n",
       "      <th>5</th>\n",
       "      <td>8</td>\n",
       "      <td>NaN</td>\n",
       "      <td>NaN</td>\n",
       "      <td>#RockyFire Update =&gt; California Hwy. 20 closed...</td>\n",
       "      <td>1</td>\n",
       "    </tr>\n",
       "    <tr>\n",
       "      <th>6</th>\n",
       "      <td>10</td>\n",
       "      <td>NaN</td>\n",
       "      <td>NaN</td>\n",
       "      <td>#flood #disaster Heavy rain causes flash flood...</td>\n",
       "      <td>1</td>\n",
       "    </tr>\n",
       "    <tr>\n",
       "      <th>7</th>\n",
       "      <td>13</td>\n",
       "      <td>NaN</td>\n",
       "      <td>NaN</td>\n",
       "      <td>I'm on top of the hill and I can see a fire in...</td>\n",
       "      <td>1</td>\n",
       "    </tr>\n",
       "    <tr>\n",
       "      <th>8</th>\n",
       "      <td>14</td>\n",
       "      <td>NaN</td>\n",
       "      <td>NaN</td>\n",
       "      <td>There's an emergency evacuation happening now ...</td>\n",
       "      <td>1</td>\n",
       "    </tr>\n",
       "    <tr>\n",
       "      <th>9</th>\n",
       "      <td>15</td>\n",
       "      <td>NaN</td>\n",
       "      <td>NaN</td>\n",
       "      <td>I'm afraid that the tornado is coming to our a...</td>\n",
       "      <td>1</td>\n",
       "    </tr>\n",
       "    <tr>\n",
       "      <th>10</th>\n",
       "      <td>16</td>\n",
       "      <td>NaN</td>\n",
       "      <td>NaN</td>\n",
       "      <td>Three people died from the heat wave so far</td>\n",
       "      <td>1</td>\n",
       "    </tr>\n",
       "    <tr>\n",
       "      <th>11</th>\n",
       "      <td>17</td>\n",
       "      <td>NaN</td>\n",
       "      <td>NaN</td>\n",
       "      <td>Haha South Tampa is getting flooded hah- WAIT ...</td>\n",
       "      <td>1</td>\n",
       "    </tr>\n",
       "    <tr>\n",
       "      <th>12</th>\n",
       "      <td>18</td>\n",
       "      <td>NaN</td>\n",
       "      <td>NaN</td>\n",
       "      <td>#raining #flooding #Florida #TampaBay #Tampa 1...</td>\n",
       "      <td>1</td>\n",
       "    </tr>\n",
       "    <tr>\n",
       "      <th>13</th>\n",
       "      <td>19</td>\n",
       "      <td>NaN</td>\n",
       "      <td>NaN</td>\n",
       "      <td>#Flood in Bago Myanmar #We arrived Bago</td>\n",
       "      <td>1</td>\n",
       "    </tr>\n",
       "    <tr>\n",
       "      <th>14</th>\n",
       "      <td>20</td>\n",
       "      <td>NaN</td>\n",
       "      <td>NaN</td>\n",
       "      <td>Damage to school bus on 80 in multi car crash ...</td>\n",
       "      <td>1</td>\n",
       "    </tr>\n",
       "    <tr>\n",
       "      <th>15</th>\n",
       "      <td>23</td>\n",
       "      <td>NaN</td>\n",
       "      <td>NaN</td>\n",
       "      <td>What's up man?</td>\n",
       "      <td>0</td>\n",
       "    </tr>\n",
       "    <tr>\n",
       "      <th>16</th>\n",
       "      <td>24</td>\n",
       "      <td>NaN</td>\n",
       "      <td>NaN</td>\n",
       "      <td>I love fruits</td>\n",
       "      <td>0</td>\n",
       "    </tr>\n",
       "    <tr>\n",
       "      <th>17</th>\n",
       "      <td>25</td>\n",
       "      <td>NaN</td>\n",
       "      <td>NaN</td>\n",
       "      <td>Summer is lovely</td>\n",
       "      <td>0</td>\n",
       "    </tr>\n",
       "    <tr>\n",
       "      <th>18</th>\n",
       "      <td>26</td>\n",
       "      <td>NaN</td>\n",
       "      <td>NaN</td>\n",
       "      <td>My car is so fast</td>\n",
       "      <td>0</td>\n",
       "    </tr>\n",
       "    <tr>\n",
       "      <th>19</th>\n",
       "      <td>28</td>\n",
       "      <td>NaN</td>\n",
       "      <td>NaN</td>\n",
       "      <td>What a goooooooaaaaaal!!!!!!</td>\n",
       "      <td>0</td>\n",
       "    </tr>\n",
       "  </tbody>\n",
       "</table>\n",
       "</div>"
      ],
      "text/plain": [
       "    id keyword location                                               text  \\\n",
       "0    1     NaN      NaN  Our Deeds are the Reason of this #earthquake M...   \n",
       "1    4     NaN      NaN             Forest fire near La Ronge Sask. Canada   \n",
       "2    5     NaN      NaN  All residents asked to 'shelter in place' are ...   \n",
       "3    6     NaN      NaN  13,000 people receive #wildfires evacuation or...   \n",
       "4    7     NaN      NaN  Just got sent this photo from Ruby #Alaska as ...   \n",
       "5    8     NaN      NaN  #RockyFire Update => California Hwy. 20 closed...   \n",
       "6   10     NaN      NaN  #flood #disaster Heavy rain causes flash flood...   \n",
       "7   13     NaN      NaN  I'm on top of the hill and I can see a fire in...   \n",
       "8   14     NaN      NaN  There's an emergency evacuation happening now ...   \n",
       "9   15     NaN      NaN  I'm afraid that the tornado is coming to our a...   \n",
       "10  16     NaN      NaN        Three people died from the heat wave so far   \n",
       "11  17     NaN      NaN  Haha South Tampa is getting flooded hah- WAIT ...   \n",
       "12  18     NaN      NaN  #raining #flooding #Florida #TampaBay #Tampa 1...   \n",
       "13  19     NaN      NaN            #Flood in Bago Myanmar #We arrived Bago   \n",
       "14  20     NaN      NaN  Damage to school bus on 80 in multi car crash ...   \n",
       "15  23     NaN      NaN                                     What's up man?   \n",
       "16  24     NaN      NaN                                      I love fruits   \n",
       "17  25     NaN      NaN                                   Summer is lovely   \n",
       "18  26     NaN      NaN                                  My car is so fast   \n",
       "19  28     NaN      NaN                       What a goooooooaaaaaal!!!!!!   \n",
       "\n",
       "    target  \n",
       "0        1  \n",
       "1        1  \n",
       "2        1  \n",
       "3        1  \n",
       "4        1  \n",
       "5        1  \n",
       "6        1  \n",
       "7        1  \n",
       "8        1  \n",
       "9        1  \n",
       "10       1  \n",
       "11       1  \n",
       "12       1  \n",
       "13       1  \n",
       "14       1  \n",
       "15       0  \n",
       "16       0  \n",
       "17       0  \n",
       "18       0  \n",
       "19       0  "
      ]
     },
     "execution_count": 9,
     "metadata": {},
     "output_type": "execute_result"
    }
   ],
   "source": [
    "data_train.head(20)"
   ]
  },
  {
   "cell_type": "markdown",
   "id": "904b3c93-eb6e-4aed-9bf7-d5dadc66b117",
   "metadata": {},
   "source": [
    " "
   ]
  },
  {
   "cell_type": "markdown",
   "id": "78d85c5b-3d3c-4c3f-9662-63b730c5012c",
   "metadata": {},
   "source": [
    "From the competition page on Kaggle, this is the summary of each category of the data categories."
   ]
  },
  {
   "cell_type": "markdown",
   "id": "dd172019-2b38-46c9-a992-0fc79ce587e4",
   "metadata": {},
   "source": [
    "| Column Name | Description                                                          |\n",
    "| ----------- | -------------------------------------------------------------------- |\n",
    "| id          | A unique identifier for each tweet                                   | \n",
    "| keyword     | A particular keyword from the tweet (may be blank)                   |\n",
    "| location    | The location the tweet was sent from (may be blank)                  |\n",
    "| text        | The text of the tweet                                                |\n",
    "| target      | The denotes whether a tweet is about a real disaster (1) or not (0)  |"
   ]
  },
  {
   "cell_type": "markdown",
   "id": "3dc331ef-413b-4d3e-b53c-420fe44ca9d9",
   "metadata": {},
   "source": [
    " "
   ]
  },
  {
   "cell_type": "markdown",
   "id": "4e9d94ea-bf18-472a-8969-9221bcea8480",
   "metadata": {},
   "source": [
    "We will now check for the counts of null values in each category. Notice that \"keyword\" has a extremely small count of null values. However, location has an extremly high count (approximately 33% of the total)."
   ]
  },
  {
   "cell_type": "code",
   "execution_count": 10,
   "id": "705e7838-cb37-4ede-ac84-7de7d5ed8f7f",
   "metadata": {},
   "outputs": [
    {
     "name": "stdout",
     "output_type": "stream",
     "text": [
      "id 0\n",
      "keyword 61\n",
      "location 2537\n",
      "text 0\n",
      "target 0\n"
     ]
    }
   ],
   "source": [
    "# prints number of null values detected by .isnull() and string none\n",
    "a = [np.nan, None, [], {}, 'NaN', 'Null','NULL','None','NA','?','-', '.','', ' ', '   ']\n",
    "for c in data_train.columns:\n",
    "    string_null = np.array([x in a[2:] for x in data_train[c]])\n",
    "    print(c, data_train[c].isnull().sum() + string_null.sum()) "
   ]
  },
  {
   "cell_type": "markdown",
   "id": "33678705-6804-40ca-be42-6bc22f617639",
   "metadata": {},
   "source": [
    " "
   ]
  },
  {
   "cell_type": "markdown",
   "id": "24e3cfa4-29ec-4b13-b002-693a7a5d4f90",
   "metadata": {},
   "source": [
    "Location should probably be removed from the dataset. However, before doing so, let us take a look at the values present in this category."
   ]
  },
  {
   "cell_type": "code",
   "execution_count": 62,
   "id": "dfe44641-3952-4c04-9176-67165ea4442a",
   "metadata": {
    "scrolled": true,
    "tags": []
   },
   "outputs": [
    {
     "data": {
      "text/plain": [
       "'\\n**NOTE: This is cell is commented out for submission to GitHub. since this is a really long list. \\nYou can implement scrolling when running the notebook in Jupyter. However this is not a \\nfeature in GitHub.\\n'"
      ]
     },
     "execution_count": 62,
     "metadata": {},
     "output_type": "execute_result"
    }
   ],
   "source": [
    "'''\n",
    "**NOTE: This is cell is commented out for submission to GitHub. since this is a really long list. \n",
    "You can implement scrolling when running the notebook in Jupyter. However this is not a \n",
    "feature in GitHub.\n",
    "'''\n",
    "\n",
    "#unique = data_train.location.unique()\n",
    "\n",
    "#[print(x) for x in unique] "
   ]
  },
  {
   "cell_type": "markdown",
   "id": "45814081-1689-4dd8-99dd-bdb1a0787d6d",
   "metadata": {},
   "source": [
    " "
   ]
  },
  {
   "cell_type": "markdown",
   "id": "5fd7cb78-8c69-403d-a2c8-833f779d9e38",
   "metadata": {},
   "source": [
    "That is quite the list of locations. It has everything from city names to \"live on webcam\". Again for curiosity sake, let us look at the top 20 locations.\n",
    "\n",
    "This data seems to be fairly inconsistent. Sometimes countries are listed, sometimes cities. And again to repeat, sometimes the location is simply \"live on webcam\". Although for the moment we will leave location in the frame, this is a strong candidate to be removed."
   ]
  },
  {
   "cell_type": "code",
   "execution_count": 12,
   "id": "cfa222de-7cd5-4702-af5a-5e92694eb597",
   "metadata": {},
   "outputs": [
    {
     "data": {
      "image/png": "[encoded data removed]",
      "text/plain": [
       "<Figure size 640x480 with 1 Axes>"
      ]
     },
     "metadata": {},
     "output_type": "display_data"
    }
   ],
   "source": [
    "data_train.location.value_counts()[:20].plot(kind='barh', title='Top 20 Locations')\n",
    "plt.show()"
   ]
  },
  {
   "cell_type": "markdown",
   "id": "536044f6-6ba4-4701-8de6-d2b2611ebe5a",
   "metadata": {},
   "source": [
    " "
   ]
  },
  {
   "cell_type": "markdown",
   "id": "f4e710dc-89f2-4b87-8e73-4b1cb59d0725",
   "metadata": {},
   "source": [
    "Now let us take a look at the \"keyword\" category to see of the observed data."
   ]
  },
  {
   "cell_type": "code",
   "execution_count": 61,
   "id": "6161ebe1-4c71-48e6-a32f-57944d164e66",
   "metadata": {
    "scrolled": true,
    "tags": []
   },
   "outputs": [
    {
     "data": {
      "text/plain": [
       "'\\n**NOTE: This is cell is commented out for submission to GitHub. since this is a really long list. \\nYou can implement scrolling when running the notebook in Jupyter. However this is not a \\nfeature in GitHub.\\n'"
      ]
     },
     "execution_count": 61,
     "metadata": {},
     "output_type": "execute_result"
    }
   ],
   "source": [
    "'''\n",
    "**NOTE: This is cell is commented out for submission to GitHub. since this is a really long list. \n",
    "You can implement scrolling when running the notebook in Jupyter. However this is not a \n",
    "feature in GitHub.\n",
    "'''\n",
    "\n",
    "#unique = data_train.keyword.unique()\n",
    "\n",
    "#[print(x) for x in unique] "
   ]
  },
  {
   "cell_type": "markdown",
   "id": "87d7b3d8-e1e2-46dc-a54f-137abb723396",
   "metadata": {},
   "source": [
    " "
   ]
  },
  {
   "cell_type": "markdown",
   "id": "f75ac1d7-4ad4-4363-b6c5-48a0246461aa",
   "metadata": {},
   "source": [
    " "
   ]
  },
  {
   "cell_type": "markdown",
   "id": "1edf28f7-082b-431c-8364-040088d8c35e",
   "metadata": {},
   "source": [
    "Now let us look at the top 20 keywords for both \"non-disaster\" and \"disaster\" Tweets."
   ]
  },
  {
   "cell_type": "code",
   "execution_count": 14,
   "id": "dbc53870-59fc-498c-bfbb-937bb350d8c4",
   "metadata": {},
   "outputs": [
    {
     "data": {
      "image/png": "[encoded data removed]",
      "text/plain": [
       "<Figure size 500x1200 with 2 Axes>"
      ]
     },
     "metadata": {},
     "output_type": "display_data"
    }
   ],
   "source": [
    "fig, ax = plt.subplots(2, 1, figsize=(5, 12), sharex=True)\n",
    "\n",
    "data_train[data_train.target == 0].keyword.value_counts()[:20].plot(kind='barh', title='Top 20 Keywords For Non-Disaster Tweets', ax=ax[0])\n",
    "data_train[data_train.target == 1].keyword.value_counts()[:20].plot(kind='barh', title='Top 20 Keywords For Disaster Tweets', ax=ax[1])\n",
    "\n",
    "plt.show()"
   ]
  },
  {
   "cell_type": "markdown",
   "id": "5f884baa-9f04-4495-bf80-760a6ee85ccf",
   "metadata": {},
   "source": [
    " "
   ]
  },
  {
   "cell_type": "markdown",
   "id": "e7b2d5e7-8569-42c3-842d-6e24e76dd72c",
   "metadata": {},
   "source": [
    "Looking at these top 20 keywords, it is hard to distinguish in many of the cases what should be considered a disaster keyword or not.\n",
    "\n",
    "* For a non-disaster keyword example, look at the word \"twister\". This could easily be a keyword for a disaster tweet talking about a tornado.\n",
    "* For a disaster tweet keyword example, look at the word \"wreckage\". This could easily be a keyword describing a car accident. Although not good, this would hardly be considered a disaster.\n",
    "\n",
    "However, before dropping any categories from the training dataframe, let us see how these observations relate to the actual Tweets and their resulting label.\n",
    "\n",
    "First, let get the counts for both positive and negatively labelled Tweets. From the counts we seem to have nearly a 60:40 ratio of negative to positive tweets."
   ]
  },
  {
   "cell_type": "code",
   "execution_count": 15,
   "id": "8c4a170e-1af3-4f46-8298-68b4e05ee1a5",
   "metadata": {},
   "outputs": [
    {
     "name": "stdout",
     "output_type": "stream",
     "text": [
      "Non-Disaster Tweet Count = 4342\n",
      "Disaster Tweet Count = 3271\n"
     ]
    },
    {
     "data": {
      "image/png": "[encoded data removed]",
      "text/plain": [
       "<Figure size 640x480 with 1 Axes>"
      ]
     },
     "metadata": {},
     "output_type": "display_data"
    }
   ],
   "source": [
    "label_count = data_train['target'].value_counts()\n",
    "labels = ['Negative', 'Positive']\n",
    "\n",
    "plt.pie(label_count, labels=labels, autopct='%1.1f%%')\n",
    "\n",
    "print(f\"Non-Disaster Tweet Count = {label_count[0]}\")\n",
    "print(f\"Disaster Tweet Count = {label_count[1]}\")\n",
    "\n",
    "plt.show()"
   ]
  },
  {
   "cell_type": "markdown",
   "id": "ee941d4b-6074-4e3d-825a-6fa2b911391d",
   "metadata": {},
   "source": [
    " "
   ]
  },
  {
   "cell_type": "markdown",
   "id": "d1a9db99-cf5c-41b8-8f05-02d818daaa3e",
   "metadata": {},
   "source": [
    "There do appear to be many duplicates for Tweets in the training dataframe. Let us take a look at some of these duplicates."
   ]
  },
  {
   "cell_type": "code",
   "execution_count": 16,
   "id": "7d3d9e46-f029-458f-b21b-5ce37ccc3d6e",
   "metadata": {
    "scrolled": true,
    "tags": []
   },
   "outputs": [
    {
     "data": {
      "text/html": [
       "<div>\n",
       "<style scoped>\n",
       "    .dataframe tbody tr th:only-of-type {\n",
       "        vertical-align: middle;\n",
       "    }\n",
       "\n",
       "    .dataframe tbody tr th {\n",
       "        vertical-align: top;\n",
       "    }\n",
       "\n",
       "    .dataframe thead th {\n",
       "        text-align: right;\n",
       "    }\n",
       "</style>\n",
       "<table border=\"1\" class=\"dataframe\">\n",
       "  <thead>\n",
       "    <tr style=\"text-align: right;\">\n",
       "      <th></th>\n",
       "      <th>id</th>\n",
       "      <th>keyword</th>\n",
       "      <th>location</th>\n",
       "      <th>text</th>\n",
       "      <th>target</th>\n",
       "    </tr>\n",
       "  </thead>\n",
       "  <tbody>\n",
       "    <tr>\n",
       "      <th>48</th>\n",
       "      <td>68</td>\n",
       "      <td>ablaze</td>\n",
       "      <td>Live On Webcam</td>\n",
       "      <td>Check these out: http://t.co/rOI2NSmEJJ http:/...</td>\n",
       "      <td>0</td>\n",
       "    </tr>\n",
       "    <tr>\n",
       "      <th>115</th>\n",
       "      <td>165</td>\n",
       "      <td>aftershock</td>\n",
       "      <td>US</td>\n",
       "      <td>320 [IR] ICEMOON [AFTERSHOCK] | http://t.co/vA...</td>\n",
       "      <td>0</td>\n",
       "    </tr>\n",
       "    <tr>\n",
       "      <th>119</th>\n",
       "      <td>172</td>\n",
       "      <td>aftershock</td>\n",
       "      <td>Switzerland</td>\n",
       "      <td>320 [IR] ICEMOON [AFTERSHOCK] | http://t.co/TH...</td>\n",
       "      <td>0</td>\n",
       "    </tr>\n",
       "    <tr>\n",
       "      <th>164</th>\n",
       "      <td>238</td>\n",
       "      <td>airplane%20accident</td>\n",
       "      <td>NaN</td>\n",
       "      <td>Experts in France begin examining airplane deb...</td>\n",
       "      <td>1</td>\n",
       "    </tr>\n",
       "    <tr>\n",
       "      <th>624</th>\n",
       "      <td>898</td>\n",
       "      <td>bioterrorism</td>\n",
       "      <td>NaN</td>\n",
       "      <td>To fight bioterrorism sir.</td>\n",
       "      <td>0</td>\n",
       "    </tr>\n",
       "    <tr>\n",
       "      <th>630</th>\n",
       "      <td>907</td>\n",
       "      <td>bioterrorism</td>\n",
       "      <td>NaN</td>\n",
       "      <td>To fight bioterrorism sir.</td>\n",
       "      <td>1</td>\n",
       "    </tr>\n",
       "    <tr>\n",
       "      <th>634</th>\n",
       "      <td>916</td>\n",
       "      <td>bioterrorism</td>\n",
       "      <td>NaN</td>\n",
       "      <td>To fight bioterrorism sir.</td>\n",
       "      <td>0</td>\n",
       "    </tr>\n",
       "    <tr>\n",
       "      <th>1156</th>\n",
       "      <td>1665</td>\n",
       "      <td>bombing</td>\n",
       "      <td>Singapore</td>\n",
       "      <td>Japan on Thursday marks the 70th anniversary o...</td>\n",
       "      <td>1</td>\n",
       "    </tr>\n",
       "    <tr>\n",
       "      <th>1251</th>\n",
       "      <td>1807</td>\n",
       "      <td>buildings%20on%20fire</td>\n",
       "      <td>UK</td>\n",
       "      <td>#TweetLikeItsSeptember11th2001 Those two build...</td>\n",
       "      <td>1</td>\n",
       "    </tr>\n",
       "    <tr>\n",
       "      <th>1331</th>\n",
       "      <td>1922</td>\n",
       "      <td>burning%20buildings</td>\n",
       "      <td>Mackay, QLD, Australia</td>\n",
       "      <td>Mmmmmm I'm burning.... I'm burning buildings I...</td>\n",
       "      <td>0</td>\n",
       "    </tr>\n",
       "    <tr>\n",
       "      <th>1332</th>\n",
       "      <td>1924</td>\n",
       "      <td>burning%20buildings</td>\n",
       "      <td>St Charles, MD</td>\n",
       "      <td>I'm mentally preparing myself for a bomb ass s...</td>\n",
       "      <td>0</td>\n",
       "    </tr>\n",
       "    <tr>\n",
       "      <th>1335</th>\n",
       "      <td>1929</td>\n",
       "      <td>burning%20buildings</td>\n",
       "      <td>NaN</td>\n",
       "      <td>@fewmoretweets all lives matter. Just not a fa...</td>\n",
       "      <td>1</td>\n",
       "    </tr>\n",
       "    <tr>\n",
       "      <th>1343</th>\n",
       "      <td>1941</td>\n",
       "      <td>burning%20buildings</td>\n",
       "      <td>NJ</td>\n",
       "      <td>@themagickidraps not upset with a rally upset ...</td>\n",
       "      <td>1</td>\n",
       "    </tr>\n",
       "    <tr>\n",
       "      <th>1345</th>\n",
       "      <td>1943</td>\n",
       "      <td>burning%20buildings</td>\n",
       "      <td>New Orleans ,Louisiana</td>\n",
       "      <td>Burning buildings? Media outrage? http://t.co/...</td>\n",
       "      <td>1</td>\n",
       "    </tr>\n",
       "    <tr>\n",
       "      <th>1349</th>\n",
       "      <td>1950</td>\n",
       "      <td>burning%20buildings</td>\n",
       "      <td>dallas</td>\n",
       "      <td>like for the music video I want some real acti...</td>\n",
       "      <td>0</td>\n",
       "    </tr>\n",
       "    <tr>\n",
       "      <th>1356</th>\n",
       "      <td>1957</td>\n",
       "      <td>burning%20buildings</td>\n",
       "      <td>Madison, GA</td>\n",
       "      <td>@_minimehh @cjoyner I must be overlooking the ...</td>\n",
       "      <td>1</td>\n",
       "    </tr>\n",
       "    <tr>\n",
       "      <th>1360</th>\n",
       "      <td>1962</td>\n",
       "      <td>burning%20buildings</td>\n",
       "      <td>In Hell</td>\n",
       "      <td>Schools in Western Uganda still Burning down B...</td>\n",
       "      <td>1</td>\n",
       "    </tr>\n",
       "    <tr>\n",
       "      <th>1365</th>\n",
       "      <td>1968</td>\n",
       "      <td>burning%20buildings</td>\n",
       "      <td>Epic City, BB.</td>\n",
       "      <td>I Pledge Allegiance To The P.O.P.E. And The Bu...</td>\n",
       "      <td>1</td>\n",
       "    </tr>\n",
       "    <tr>\n",
       "      <th>1623</th>\n",
       "      <td>2346</td>\n",
       "      <td>collapse</td>\n",
       "      <td>Mumbai , India</td>\n",
       "      <td>Warne shocked over Australia's epic collapse a...</td>\n",
       "      <td>1</td>\n",
       "    </tr>\n",
       "    <tr>\n",
       "      <th>1725</th>\n",
       "      <td>2488</td>\n",
       "      <td>collided</td>\n",
       "      <td>Peterborough, Ont.</td>\n",
       "      <td>#Newswatch: 2 vehicles collided at Lock and La...</td>\n",
       "      <td>1</td>\n",
       "    </tr>\n",
       "    <tr>\n",
       "      <th>2352</th>\n",
       "      <td>3387</td>\n",
       "      <td>demolition</td>\n",
       "      <td>NaN</td>\n",
       "      <td>General News Û¢åÊ'Demolition of houses on wat...</td>\n",
       "      <td>0</td>\n",
       "    </tr>\n",
       "    <tr>\n",
       "      <th>2441</th>\n",
       "      <td>3505</td>\n",
       "      <td>derailment</td>\n",
       "      <td>India</td>\n",
       "      <td>Madhya Pradesh Train Derailment: Village Youth...</td>\n",
       "      <td>1</td>\n",
       "    </tr>\n",
       "    <tr>\n",
       "      <th>2449</th>\n",
       "      <td>3517</td>\n",
       "      <td>derailment</td>\n",
       "      <td>NaN</td>\n",
       "      <td>Madhya Pradesh Train Derailment: Village Youth...</td>\n",
       "      <td>1</td>\n",
       "    </tr>\n",
       "    <tr>\n",
       "      <th>2452</th>\n",
       "      <td>3520</td>\n",
       "      <td>derailment</td>\n",
       "      <td>NaN</td>\n",
       "      <td>Madhya Pradesh Train Derailment: Village Youth...</td>\n",
       "      <td>1</td>\n",
       "    </tr>\n",
       "    <tr>\n",
       "      <th>2454</th>\n",
       "      <td>3522</td>\n",
       "      <td>derailment</td>\n",
       "      <td>India</td>\n",
       "      <td>Madhya Pradesh Train Derailment: Village Youth...</td>\n",
       "      <td>1</td>\n",
       "    </tr>\n",
       "    <tr>\n",
       "      <th>2456</th>\n",
       "      <td>3524</td>\n",
       "      <td>derailment</td>\n",
       "      <td>NaN</td>\n",
       "      <td>Madhya Pradesh Train Derailment: Village Youth...</td>\n",
       "      <td>1</td>\n",
       "    </tr>\n",
       "    <tr>\n",
       "      <th>2477</th>\n",
       "      <td>3552</td>\n",
       "      <td>derailment</td>\n",
       "      <td>NaN</td>\n",
       "      <td>Madhya Pradesh Train Derailment: Village Youth...</td>\n",
       "      <td>1</td>\n",
       "    </tr>\n",
       "    <tr>\n",
       "      <th>2655</th>\n",
       "      <td>3814</td>\n",
       "      <td>detonate</td>\n",
       "      <td>Morioh, Japan</td>\n",
       "      <td>@spinningbot Are you another Stand-user? If yo...</td>\n",
       "      <td>0</td>\n",
       "    </tr>\n",
       "    <tr>\n",
       "      <th>2666</th>\n",
       "      <td>3828</td>\n",
       "      <td>detonate</td>\n",
       "      <td>Morioh, Japan</td>\n",
       "      <td>@TinyJecht Are you another Stand-user? If you ...</td>\n",
       "      <td>0</td>\n",
       "    </tr>\n",
       "    <tr>\n",
       "      <th>2674</th>\n",
       "      <td>3836</td>\n",
       "      <td>detonate</td>\n",
       "      <td>Morioh, Japan</td>\n",
       "      <td>@spinningbot Are you another Stand-user? If yo...</td>\n",
       "      <td>0</td>\n",
       "    </tr>\n",
       "    <tr>\n",
       "      <th>2679</th>\n",
       "      <td>3841</td>\n",
       "      <td>detonate</td>\n",
       "      <td>Morioh, Japan</td>\n",
       "      <td>@TinyJecht Are you another Stand-user? If you ...</td>\n",
       "      <td>0</td>\n",
       "    </tr>\n",
       "    <tr>\n",
       "      <th>2828</th>\n",
       "      <td>4064</td>\n",
       "      <td>displaced</td>\n",
       "      <td>NaN</td>\n",
       "      <td>#KCA #VoteJKT48ID 12News: UPDATE: A family of ...</td>\n",
       "      <td>1</td>\n",
       "    </tr>\n",
       "    <tr>\n",
       "      <th>2831</th>\n",
       "      <td>4072</td>\n",
       "      <td>displaced</td>\n",
       "      <td>Pedophile hunting ground</td>\n",
       "      <td>.POTUS #StrategicPatience is a strategy for #G...</td>\n",
       "      <td>1</td>\n",
       "    </tr>\n",
       "    <tr>\n",
       "      <th>2832</th>\n",
       "      <td>4076</td>\n",
       "      <td>displaced</td>\n",
       "      <td>Pedophile hunting ground</td>\n",
       "      <td>.POTUS #StrategicPatience is a strategy for #G...</td>\n",
       "      <td>0</td>\n",
       "    </tr>\n",
       "    <tr>\n",
       "      <th>2833</th>\n",
       "      <td>4077</td>\n",
       "      <td>displaced</td>\n",
       "      <td>Pedophile hunting ground</td>\n",
       "      <td>.POTUS #StrategicPatience is a strategy for #G...</td>\n",
       "      <td>1</td>\n",
       "    </tr>\n",
       "    <tr>\n",
       "      <th>2841</th>\n",
       "      <td>4086</td>\n",
       "      <td>displaced</td>\n",
       "      <td>Pedophile hunting ground</td>\n",
       "      <td>#Myanmar  Displaced #Rohingya at #Sittwe point...</td>\n",
       "      <td>1</td>\n",
       "    </tr>\n",
       "    <tr>\n",
       "      <th>3243</th>\n",
       "      <td>4659</td>\n",
       "      <td>engulfed</td>\n",
       "      <td>Kuwait</td>\n",
       "      <td>He came to a land which was engulfed in tribal...</td>\n",
       "      <td>1</td>\n",
       "    </tr>\n",
       "    <tr>\n",
       "      <th>3248</th>\n",
       "      <td>4669</td>\n",
       "      <td>engulfed</td>\n",
       "      <td>Bahrain</td>\n",
       "      <td>He came to a land which was engulfed in tribal...</td>\n",
       "      <td>1</td>\n",
       "    </tr>\n",
       "    <tr>\n",
       "      <th>3251</th>\n",
       "      <td>4672</td>\n",
       "      <td>engulfed</td>\n",
       "      <td>NaN</td>\n",
       "      <td>He came to a land which was engulfed in tribal...</td>\n",
       "      <td>0</td>\n",
       "    </tr>\n",
       "    <tr>\n",
       "      <th>3261</th>\n",
       "      <td>4684</td>\n",
       "      <td>engulfed</td>\n",
       "      <td>NaN</td>\n",
       "      <td>He came to a land which was engulfed in tribal...</td>\n",
       "      <td>0</td>\n",
       "    </tr>\n",
       "    <tr>\n",
       "      <th>3266</th>\n",
       "      <td>4691</td>\n",
       "      <td>engulfed</td>\n",
       "      <td>NaN</td>\n",
       "      <td>He came to a land which was engulfed in tribal...</td>\n",
       "      <td>0</td>\n",
       "    </tr>\n",
       "    <tr>\n",
       "      <th>3374</th>\n",
       "      <td>4832</td>\n",
       "      <td>evacuation</td>\n",
       "      <td>Na:tinixw / Hoopa, Berkeley</td>\n",
       "      <td>Elem Pomo helping the displaced from the Rocky...</td>\n",
       "      <td>1</td>\n",
       "    </tr>\n",
       "    <tr>\n",
       "      <th>3382</th>\n",
       "      <td>4844</td>\n",
       "      <td>evacuation</td>\n",
       "      <td>Renfrew, Scotland</td>\n",
       "      <td>@batfanuk we enjoyed the show today. Great fun...</td>\n",
       "      <td>0</td>\n",
       "    </tr>\n",
       "    <tr>\n",
       "      <th>3390</th>\n",
       "      <td>4853</td>\n",
       "      <td>evacuation</td>\n",
       "      <td>Portland, Ore.</td>\n",
       "      <td>New evacuation ordered for 25 homes in danger ...</td>\n",
       "      <td>1</td>\n",
       "    </tr>\n",
       "    <tr>\n",
       "      <th>3461</th>\n",
       "      <td>4952</td>\n",
       "      <td>exploded</td>\n",
       "      <td>NaN</td>\n",
       "      <td>that exploded &amp;amp; brought about the\\nbeginni...</td>\n",
       "      <td>0</td>\n",
       "    </tr>\n",
       "    <tr>\n",
       "      <th>3589</th>\n",
       "      <td>5127</td>\n",
       "      <td>fatal</td>\n",
       "      <td>Varanasi</td>\n",
       "      <td>11-Year-Old Boy Charged With Manslaughter of T...</td>\n",
       "      <td>1</td>\n",
       "    </tr>\n",
       "    <tr>\n",
       "      <th>3591</th>\n",
       "      <td>5130</td>\n",
       "      <td>fatal</td>\n",
       "      <td>Thane</td>\n",
       "      <td>11-Year-Old Boy Charged With Manslaughter of T...</td>\n",
       "      <td>1</td>\n",
       "    </tr>\n",
       "    <tr>\n",
       "      <th>3597</th>\n",
       "      <td>5137</td>\n",
       "      <td>fatal</td>\n",
       "      <td>NaN</td>\n",
       "      <td>11-Year-Old Boy Charged With Manslaughter of T...</td>\n",
       "      <td>1</td>\n",
       "    </tr>\n",
       "    <tr>\n",
       "      <th>3600</th>\n",
       "      <td>5140</td>\n",
       "      <td>fatal</td>\n",
       "      <td>NaN</td>\n",
       "      <td>11-Year-Old Boy Charged With Manslaughter of T...</td>\n",
       "      <td>1</td>\n",
       "    </tr>\n",
       "    <tr>\n",
       "      <th>3603</th>\n",
       "      <td>5144</td>\n",
       "      <td>fatal</td>\n",
       "      <td>NaN</td>\n",
       "      <td>11-Year-Old Boy Charged With Manslaughter of T...</td>\n",
       "      <td>1</td>\n",
       "    </tr>\n",
       "    <tr>\n",
       "      <th>3604</th>\n",
       "      <td>5145</td>\n",
       "      <td>fatal</td>\n",
       "      <td>Bangalore</td>\n",
       "      <td>11-Year-Old Boy Charged With Manslaughter of T...</td>\n",
       "      <td>1</td>\n",
       "    </tr>\n",
       "    <tr>\n",
       "      <th>3610</th>\n",
       "      <td>5153</td>\n",
       "      <td>fatal</td>\n",
       "      <td>Dimapur</td>\n",
       "      <td>11-Year-Old Boy Charged With Manslaughter of T...</td>\n",
       "      <td>1</td>\n",
       "    </tr>\n",
       "    <tr>\n",
       "      <th>3613</th>\n",
       "      <td>5157</td>\n",
       "      <td>fatal</td>\n",
       "      <td>NaN</td>\n",
       "      <td>11-Year-Old Boy Charged With Manslaughter of T...</td>\n",
       "      <td>1</td>\n",
       "    </tr>\n",
       "    <tr>\n",
       "      <th>3614</th>\n",
       "      <td>5159</td>\n",
       "      <td>fatal</td>\n",
       "      <td>NaN</td>\n",
       "      <td>11-Year-Old Boy Charged With Manslaughter of T...</td>\n",
       "      <td>1</td>\n",
       "    </tr>\n",
       "    <tr>\n",
       "      <th>3795</th>\n",
       "      <td>5387</td>\n",
       "      <td>fire%20truck</td>\n",
       "      <td>Orange County, CA</td>\n",
       "      <td>#SigAlert: North &amp;amp; Southbound 133 closed b...</td>\n",
       "      <td>1</td>\n",
       "    </tr>\n",
       "    <tr>\n",
       "      <th>4013</th>\n",
       "      <td>5699</td>\n",
       "      <td>floods</td>\n",
       "      <td>NaN</td>\n",
       "      <td>Who is bringing the tornadoes and floods. Who ...</td>\n",
       "      <td>0</td>\n",
       "    </tr>\n",
       "    <tr>\n",
       "      <th>4019</th>\n",
       "      <td>5710</td>\n",
       "      <td>floods</td>\n",
       "      <td>NaN</td>\n",
       "      <td>Who is bringing the tornadoes and floods. Who ...</td>\n",
       "      <td>0</td>\n",
       "    </tr>\n",
       "    <tr>\n",
       "      <th>4235</th>\n",
       "      <td>6017</td>\n",
       "      <td>hazardous</td>\n",
       "      <td>NaN</td>\n",
       "      <td>Caution: breathing may be hazardous to your he...</td>\n",
       "      <td>0</td>\n",
       "    </tr>\n",
       "    <tr>\n",
       "      <th>4239</th>\n",
       "      <td>6023</td>\n",
       "      <td>hazardous</td>\n",
       "      <td>Mysore, Karnataka</td>\n",
       "      <td>#foodscare #offers2go #NestleIndia slips into ...</td>\n",
       "      <td>1</td>\n",
       "    </tr>\n",
       "    <tr>\n",
       "      <th>4244</th>\n",
       "      <td>6031</td>\n",
       "      <td>hazardous</td>\n",
       "      <td>New Delhi, Delhi</td>\n",
       "      <td>#foodscare #offers2go #NestleIndia slips into ...</td>\n",
       "      <td>0</td>\n",
       "    </tr>\n",
       "    <tr>\n",
       "      <th>4286</th>\n",
       "      <td>6090</td>\n",
       "      <td>hellfire</td>\n",
       "      <td>Riyadh</td>\n",
       "      <td>The Prophet (peace be upon him) said 'Save you...</td>\n",
       "      <td>0</td>\n",
       "    </tr>\n",
       "    <tr>\n",
       "      <th>4291</th>\n",
       "      <td>6096</td>\n",
       "      <td>hellfire</td>\n",
       "      <td>NaN</td>\n",
       "      <td>Beware of your temper and a loose tongue! Thes...</td>\n",
       "      <td>0</td>\n",
       "    </tr>\n",
       "    <tr>\n",
       "      <th>4292</th>\n",
       "      <td>6097</td>\n",
       "      <td>hellfire</td>\n",
       "      <td>NaN</td>\n",
       "      <td>The Prophet (peace be upon him) said 'Save you...</td>\n",
       "      <td>1</td>\n",
       "    </tr>\n",
       "    <tr>\n",
       "      <th>4299</th>\n",
       "      <td>6105</td>\n",
       "      <td>hellfire</td>\n",
       "      <td>?????? ??? ?????? ????????</td>\n",
       "      <td>#Allah describes piling up #wealth thinking it...</td>\n",
       "      <td>0</td>\n",
       "    </tr>\n",
       "    <tr>\n",
       "      <th>4303</th>\n",
       "      <td>6110</td>\n",
       "      <td>hellfire</td>\n",
       "      <td>NaN</td>\n",
       "      <td>Beware of your temper and a loose tongue! Thes...</td>\n",
       "      <td>0</td>\n",
       "    </tr>\n",
       "    <tr>\n",
       "      <th>4304</th>\n",
       "      <td>6111</td>\n",
       "      <td>hellfire</td>\n",
       "      <td>NaN</td>\n",
       "      <td>The Prophet (peace be upon him) said 'Save you...</td>\n",
       "      <td>0</td>\n",
       "    </tr>\n",
       "    <tr>\n",
       "      <th>4305</th>\n",
       "      <td>6112</td>\n",
       "      <td>hellfire</td>\n",
       "      <td>NaN</td>\n",
       "      <td>Hellfire is surrounded by desires so be carefu...</td>\n",
       "      <td>1</td>\n",
       "    </tr>\n",
       "    <tr>\n",
       "      <th>4308</th>\n",
       "      <td>6116</td>\n",
       "      <td>hellfire</td>\n",
       "      <td>??????????? ???????????..?</td>\n",
       "      <td>Hellfire is surrounded by desires so be carefu...</td>\n",
       "      <td>0</td>\n",
       "    </tr>\n",
       "    <tr>\n",
       "      <th>4309</th>\n",
       "      <td>6118</td>\n",
       "      <td>hellfire</td>\n",
       "      <td>NaN</td>\n",
       "      <td>The Prophet (peace be upon him) said 'Save you...</td>\n",
       "      <td>0</td>\n",
       "    </tr>\n",
       "    <tr>\n",
       "      <th>4310</th>\n",
       "      <td>6119</td>\n",
       "      <td>hellfire</td>\n",
       "      <td>NaN</td>\n",
       "      <td>Hellfire! We donÛªt even want to think about ...</td>\n",
       "      <td>0</td>\n",
       "    </tr>\n",
       "    <tr>\n",
       "      <th>4312</th>\n",
       "      <td>6123</td>\n",
       "      <td>hellfire</td>\n",
       "      <td>?????? ???? ??????</td>\n",
       "      <td>#Allah describes piling up #wealth thinking it...</td>\n",
       "      <td>1</td>\n",
       "    </tr>\n",
       "    <tr>\n",
       "      <th>4313</th>\n",
       "      <td>6125</td>\n",
       "      <td>hellfire</td>\n",
       "      <td>NaN</td>\n",
       "      <td>Hellfire is surrounded by desires so be carefu...</td>\n",
       "      <td>0</td>\n",
       "    </tr>\n",
       "    <tr>\n",
       "      <th>4318</th>\n",
       "      <td>6132</td>\n",
       "      <td>hellfire</td>\n",
       "      <td>NaN</td>\n",
       "      <td>The Prophet (peace be upon him) said 'Save you...</td>\n",
       "      <td>1</td>\n",
       "    </tr>\n",
       "    <tr>\n",
       "      <th>4320</th>\n",
       "      <td>6134</td>\n",
       "      <td>hellfire</td>\n",
       "      <td>Riyadh ')</td>\n",
       "      <td>Hellfire! We donÛªt even want to think about ...</td>\n",
       "      <td>1</td>\n",
       "    </tr>\n",
       "    <tr>\n",
       "      <th>4351</th>\n",
       "      <td>6181</td>\n",
       "      <td>hijack</td>\n",
       "      <td>NaN</td>\n",
       "      <td>Swansea Û÷plot hijack transfer move for South...</td>\n",
       "      <td>1</td>\n",
       "    </tr>\n",
       "    <tr>\n",
       "      <th>4381</th>\n",
       "      <td>6223</td>\n",
       "      <td>hijacker</td>\n",
       "      <td>worldwide</td>\n",
       "      <td>RT NotExplained: The only known image of infam...</td>\n",
       "      <td>1</td>\n",
       "    </tr>\n",
       "    <tr>\n",
       "      <th>4601</th>\n",
       "      <td>6543</td>\n",
       "      <td>injury</td>\n",
       "      <td>Sacramento, CA</td>\n",
       "      <td>Traffic Collision - No Injury: I5 S at I5 S 43...</td>\n",
       "      <td>1</td>\n",
       "    </tr>\n",
       "    <tr>\n",
       "      <th>4605</th>\n",
       "      <td>6548</td>\n",
       "      <td>injury</td>\n",
       "      <td>NaN</td>\n",
       "      <td>CLEARED:incident with injury:I-495  inner loop...</td>\n",
       "      <td>1</td>\n",
       "    </tr>\n",
       "    <tr>\n",
       "      <th>4618</th>\n",
       "      <td>6566</td>\n",
       "      <td>injury</td>\n",
       "      <td>NaN</td>\n",
       "      <td>CLEARED:incident with injury:I-495  inner loop...</td>\n",
       "      <td>0</td>\n",
       "    </tr>\n",
       "    <tr>\n",
       "      <th>4631</th>\n",
       "      <td>6582</td>\n",
       "      <td>injury</td>\n",
       "      <td>NaN</td>\n",
       "      <td>incident with injury:I-495  inner loop Exit 31...</td>\n",
       "      <td>1</td>\n",
       "    </tr>\n",
       "    <tr>\n",
       "      <th>4834</th>\n",
       "      <td>6881</td>\n",
       "      <td>mass%20murder</td>\n",
       "      <td>Anonymous</td>\n",
       "      <td>http://t.co/c1H7JECFrV @RoyalCarribean do your...</td>\n",
       "      <td>1</td>\n",
       "    </tr>\n",
       "    <tr>\n",
       "      <th>5073</th>\n",
       "      <td>7231</td>\n",
       "      <td>natural%20disaster</td>\n",
       "      <td>NaN</td>\n",
       "      <td>Top insurer blasts lack of Australian Govt act...</td>\n",
       "      <td>1</td>\n",
       "    </tr>\n",
       "    <tr>\n",
       "      <th>5292</th>\n",
       "      <td>7559</td>\n",
       "      <td>outbreak</td>\n",
       "      <td>NaN</td>\n",
       "      <td>Families to sue over Legionnaires: More than 4...</td>\n",
       "      <td>1</td>\n",
       "    </tr>\n",
       "    <tr>\n",
       "      <th>5641</th>\n",
       "      <td>8044</td>\n",
       "      <td>refugees</td>\n",
       "      <td>NaN</td>\n",
       "      <td>wowo--=== 12000 Nigerian refugees repatriated ...</td>\n",
       "      <td>0</td>\n",
       "    </tr>\n",
       "    <tr>\n",
       "      <th>5665</th>\n",
       "      <td>8084</td>\n",
       "      <td>rescue</td>\n",
       "      <td>Toronto, Ontario</td>\n",
       "      <td>UD: Rescue (Structural Collapse) - Scott Road ...</td>\n",
       "      <td>1</td>\n",
       "    </tr>\n",
       "    <tr>\n",
       "      <th>5720</th>\n",
       "      <td>8163</td>\n",
       "      <td>rescuers</td>\n",
       "      <td>NaN</td>\n",
       "      <td>VIDEO: 'We're picking up bodies from water': R...</td>\n",
       "      <td>1</td>\n",
       "    </tr>\n",
       "    <tr>\n",
       "      <th>5723</th>\n",
       "      <td>8168</td>\n",
       "      <td>rescuers</td>\n",
       "      <td>NaN</td>\n",
       "      <td>VIDEO: 'We're picking up bodies from water': R...</td>\n",
       "      <td>1</td>\n",
       "    </tr>\n",
       "    <tr>\n",
       "      <th>5734</th>\n",
       "      <td>8183</td>\n",
       "      <td>rescuers</td>\n",
       "      <td>NaN</td>\n",
       "      <td>VIDEO: 'We're picking up bodies from water': R...</td>\n",
       "      <td>1</td>\n",
       "    </tr>\n",
       "    <tr>\n",
       "      <th>5771</th>\n",
       "      <td>8238</td>\n",
       "      <td>riot</td>\n",
       "      <td>Mumbai</td>\n",
       "      <td>Stuart Broad Takes Eight Before Joe Root Runs ...</td>\n",
       "      <td>0</td>\n",
       "    </tr>\n",
       "    <tr>\n",
       "      <th>6094</th>\n",
       "      <td>8702</td>\n",
       "      <td>sinking</td>\n",
       "      <td>NaN</td>\n",
       "      <td>that horrible sinking feeling when youÛªve be...</td>\n",
       "      <td>0</td>\n",
       "    </tr>\n",
       "    <tr>\n",
       "      <th>6103</th>\n",
       "      <td>8714</td>\n",
       "      <td>sinking</td>\n",
       "      <td>NaN</td>\n",
       "      <td>that horrible sinking feeling when youÛªve be...</td>\n",
       "      <td>0</td>\n",
       "    </tr>\n",
       "    <tr>\n",
       "      <th>6123</th>\n",
       "      <td>8739</td>\n",
       "      <td>sinking</td>\n",
       "      <td>MA</td>\n",
       "      <td>that horrible sinking feeling when youÛªve be...</td>\n",
       "      <td>1</td>\n",
       "    </tr>\n",
       "    <tr>\n",
       "      <th>6366</th>\n",
       "      <td>9098</td>\n",
       "      <td>suicide%20bomb</td>\n",
       "      <td>Nigeria</td>\n",
       "      <td>#Bestnaijamade: 16yr old PKK suicide bomber wh...</td>\n",
       "      <td>1</td>\n",
       "    </tr>\n",
       "    <tr>\n",
       "      <th>6373</th>\n",
       "      <td>9107</td>\n",
       "      <td>suicide%20bomb</td>\n",
       "      <td>Nigeria</td>\n",
       "      <td>#Bestnaijamade: 16yr old PKK suicide bomber wh...</td>\n",
       "      <td>1</td>\n",
       "    </tr>\n",
       "    <tr>\n",
       "      <th>6377</th>\n",
       "      <td>9113</td>\n",
       "      <td>suicide%20bomb</td>\n",
       "      <td>Nigeria</td>\n",
       "      <td>#Bestnaijamade: 16yr old PKK suicide bomber wh...</td>\n",
       "      <td>1</td>\n",
       "    </tr>\n",
       "    <tr>\n",
       "      <th>6378</th>\n",
       "      <td>9114</td>\n",
       "      <td>suicide%20bomb</td>\n",
       "      <td>Nigeria</td>\n",
       "      <td>#Bestnaijamade: 16yr old PKK suicide bomber wh...</td>\n",
       "      <td>1</td>\n",
       "    </tr>\n",
       "    <tr>\n",
       "      <th>6392</th>\n",
       "      <td>9135</td>\n",
       "      <td>suicide%20bomb</td>\n",
       "      <td>Nigeria</td>\n",
       "      <td>#Bestnaijamade: 16yr old PKK suicide bomber wh...</td>\n",
       "      <td>1</td>\n",
       "    </tr>\n",
       "    <tr>\n",
       "      <th>6449</th>\n",
       "      <td>9225</td>\n",
       "      <td>suicide%20bombing</td>\n",
       "      <td>NaN</td>\n",
       "      <td>'Suicide bombing at [location named]...' #prem...</td>\n",
       "      <td>1</td>\n",
       "    </tr>\n",
       "    <tr>\n",
       "      <th>6616</th>\n",
       "      <td>9472</td>\n",
       "      <td>terrorism</td>\n",
       "      <td>Riyadh</td>\n",
       "      <td>In #islam saving a person is equal in reward t...</td>\n",
       "      <td>1</td>\n",
       "    </tr>\n",
       "    <tr>\n",
       "      <th>6656</th>\n",
       "      <td>9539</td>\n",
       "      <td>terrorist</td>\n",
       "      <td>MAD as Hell</td>\n",
       "      <td>RT AbbsWinston: #Zionist #Terrorist kidnapped ...</td>\n",
       "      <td>1</td>\n",
       "    </tr>\n",
       "    <tr>\n",
       "      <th>7026</th>\n",
       "      <td>10071</td>\n",
       "      <td>typhoon</td>\n",
       "      <td>NaN</td>\n",
       "      <td>abcnews - Obama Declares Disaster for Typhoon-...</td>\n",
       "      <td>1</td>\n",
       "    </tr>\n",
       "    <tr>\n",
       "      <th>7034</th>\n",
       "      <td>10080</td>\n",
       "      <td>typhoon</td>\n",
       "      <td>REPUBLICA DOMINICANA</td>\n",
       "      <td>(#LosDelSonido) Obama Declares Disaster for Ty...</td>\n",
       "      <td>1</td>\n",
       "    </tr>\n",
       "    <tr>\n",
       "      <th>7135</th>\n",
       "      <td>10220</td>\n",
       "      <td>volcano</td>\n",
       "      <td>Hawaii, USA</td>\n",
       "      <td>USGS reports a M1.94 #earthquake 5km S of Volc...</td>\n",
       "      <td>1</td>\n",
       "    </tr>\n",
       "    <tr>\n",
       "      <th>7533</th>\n",
       "      <td>10771</td>\n",
       "      <td>wreckage</td>\n",
       "      <td>Mumbai</td>\n",
       "      <td>Wreckage 'Conclusively Confirmed' as From MH37...</td>\n",
       "      <td>1</td>\n",
       "    </tr>\n",
       "    <tr>\n",
       "      <th>7537</th>\n",
       "      <td>10776</td>\n",
       "      <td>wreckage</td>\n",
       "      <td>India</td>\n",
       "      <td>Wreckage 'Conclusively Confirmed' as From MH37...</td>\n",
       "      <td>1</td>\n",
       "    </tr>\n",
       "    <tr>\n",
       "      <th>7600</th>\n",
       "      <td>10855</td>\n",
       "      <td>NaN</td>\n",
       "      <td>NaN</td>\n",
       "      <td>Evacuation order lifted for town of Roosevelt:...</td>\n",
       "      <td>1</td>\n",
       "    </tr>\n",
       "    <tr>\n",
       "      <th>7607</th>\n",
       "      <td>10867</td>\n",
       "      <td>NaN</td>\n",
       "      <td>NaN</td>\n",
       "      <td>#stormchase Violent Record Breaking EF-5 El Re...</td>\n",
       "      <td>1</td>\n",
       "    </tr>\n",
       "    <tr>\n",
       "      <th>7609</th>\n",
       "      <td>10870</td>\n",
       "      <td>NaN</td>\n",
       "      <td>NaN</td>\n",
       "      <td>@aria_ahrary @TheTawniest The out of control w...</td>\n",
       "      <td>1</td>\n",
       "    </tr>\n",
       "    <tr>\n",
       "      <th>7610</th>\n",
       "      <td>10871</td>\n",
       "      <td>NaN</td>\n",
       "      <td>NaN</td>\n",
       "      <td>M1.94 [01:04 UTC]?5km S of Volcano Hawaii. htt...</td>\n",
       "      <td>1</td>\n",
       "    </tr>\n",
       "    <tr>\n",
       "      <th>7611</th>\n",
       "      <td>10872</td>\n",
       "      <td>NaN</td>\n",
       "      <td>NaN</td>\n",
       "      <td>Police investigating after an e-bike collided ...</td>\n",
       "      <td>1</td>\n",
       "    </tr>\n",
       "  </tbody>\n",
       "</table>\n",
       "</div>"
      ],
      "text/plain": [
       "         id                keyword                     location  \\\n",
       "48       68                 ablaze               Live On Webcam   \n",
       "115     165             aftershock                           US   \n",
       "119     172             aftershock                  Switzerland   \n",
       "164     238    airplane%20accident                          NaN   \n",
       "624     898           bioterrorism                          NaN   \n",
       "630     907           bioterrorism                          NaN   \n",
       "634     916           bioterrorism                          NaN   \n",
       "1156   1665                bombing                    Singapore   \n",
       "1251   1807  buildings%20on%20fire                           UK   \n",
       "1331   1922    burning%20buildings       Mackay, QLD, Australia   \n",
       "1332   1924    burning%20buildings               St Charles, MD   \n",
       "1335   1929    burning%20buildings                          NaN   \n",
       "1343   1941    burning%20buildings                           NJ   \n",
       "1345   1943    burning%20buildings       New Orleans ,Louisiana   \n",
       "1349   1950    burning%20buildings                       dallas   \n",
       "1356   1957    burning%20buildings                  Madison, GA   \n",
       "1360   1962    burning%20buildings                      In Hell   \n",
       "1365   1968    burning%20buildings               Epic City, BB.   \n",
       "1623   2346               collapse               Mumbai , India   \n",
       "1725   2488               collided           Peterborough, Ont.   \n",
       "2352   3387             demolition                          NaN   \n",
       "2441   3505             derailment                        India   \n",
       "2449   3517             derailment                          NaN   \n",
       "2452   3520             derailment                          NaN   \n",
       "2454   3522             derailment                        India   \n",
       "2456   3524             derailment                          NaN   \n",
       "2477   3552             derailment                          NaN   \n",
       "2655   3814               detonate                Morioh, Japan   \n",
       "2666   3828               detonate                Morioh, Japan   \n",
       "2674   3836               detonate                Morioh, Japan   \n",
       "2679   3841               detonate                Morioh, Japan   \n",
       "2828   4064              displaced                          NaN   \n",
       "2831   4072              displaced     Pedophile hunting ground   \n",
       "2832   4076              displaced     Pedophile hunting ground   \n",
       "2833   4077              displaced     Pedophile hunting ground   \n",
       "2841   4086              displaced     Pedophile hunting ground   \n",
       "3243   4659               engulfed                      Kuwait    \n",
       "3248   4669               engulfed                      Bahrain   \n",
       "3251   4672               engulfed                          NaN   \n",
       "3261   4684               engulfed                          NaN   \n",
       "3266   4691               engulfed                          NaN   \n",
       "3374   4832             evacuation  Na:tinixw / Hoopa, Berkeley   \n",
       "3382   4844             evacuation            Renfrew, Scotland   \n",
       "3390   4853             evacuation              Portland, Ore.    \n",
       "3461   4952               exploded                          NaN   \n",
       "3589   5127                  fatal                     Varanasi   \n",
       "3591   5130                  fatal                        Thane   \n",
       "3597   5137                  fatal                          NaN   \n",
       "3600   5140                  fatal                          NaN   \n",
       "3603   5144                  fatal                          NaN   \n",
       "3604   5145                  fatal                    Bangalore   \n",
       "3610   5153                  fatal                      Dimapur   \n",
       "3613   5157                  fatal                          NaN   \n",
       "3614   5159                  fatal                          NaN   \n",
       "3795   5387           fire%20truck            Orange County, CA   \n",
       "4013   5699                 floods                          NaN   \n",
       "4019   5710                 floods                          NaN   \n",
       "4235   6017              hazardous                          NaN   \n",
       "4239   6023              hazardous            Mysore, Karnataka   \n",
       "4244   6031              hazardous             New Delhi, Delhi   \n",
       "4286   6090               hellfire                       Riyadh   \n",
       "4291   6096               hellfire                          NaN   \n",
       "4292   6097               hellfire                          NaN   \n",
       "4299   6105               hellfire   ?????? ??? ?????? ????????   \n",
       "4303   6110               hellfire                          NaN   \n",
       "4304   6111               hellfire                          NaN   \n",
       "4305   6112               hellfire                          NaN   \n",
       "4308   6116               hellfire  ??????????? ???????????..?    \n",
       "4309   6118               hellfire                          NaN   \n",
       "4310   6119               hellfire                          NaN   \n",
       "4312   6123               hellfire           ?????? ???? ??????   \n",
       "4313   6125               hellfire                          NaN   \n",
       "4318   6132               hellfire                          NaN   \n",
       "4320   6134               hellfire                    Riyadh ')   \n",
       "4351   6181                 hijack                          NaN   \n",
       "4381   6223               hijacker                    worldwide   \n",
       "4601   6543                 injury               Sacramento, CA   \n",
       "4605   6548                 injury                          NaN   \n",
       "4618   6566                 injury                          NaN   \n",
       "4631   6582                 injury                          NaN   \n",
       "4834   6881          mass%20murder                    Anonymous   \n",
       "5073   7231     natural%20disaster                          NaN   \n",
       "5292   7559               outbreak                          NaN   \n",
       "5641   8044               refugees                          NaN   \n",
       "5665   8084                 rescue             Toronto, Ontario   \n",
       "5720   8163               rescuers                          NaN   \n",
       "5723   8168               rescuers                          NaN   \n",
       "5734   8183               rescuers                          NaN   \n",
       "5771   8238                   riot                       Mumbai   \n",
       "6094   8702                sinking                          NaN   \n",
       "6103   8714                sinking                          NaN   \n",
       "6123   8739                sinking                           MA   \n",
       "6366   9098         suicide%20bomb                      Nigeria   \n",
       "6373   9107         suicide%20bomb                      Nigeria   \n",
       "6377   9113         suicide%20bomb                      Nigeria   \n",
       "6378   9114         suicide%20bomb                      Nigeria   \n",
       "6392   9135         suicide%20bomb                      Nigeria   \n",
       "6449   9225      suicide%20bombing                          NaN   \n",
       "6616   9472              terrorism                       Riyadh   \n",
       "6656   9539              terrorist                  MAD as Hell   \n",
       "7026  10071                typhoon                          NaN   \n",
       "7034  10080                typhoon         REPUBLICA DOMINICANA   \n",
       "7135  10220                volcano                  Hawaii, USA   \n",
       "7533  10771               wreckage                       Mumbai   \n",
       "7537  10776               wreckage                        India   \n",
       "7600  10855                    NaN                          NaN   \n",
       "7607  10867                    NaN                          NaN   \n",
       "7609  10870                    NaN                          NaN   \n",
       "7610  10871                    NaN                          NaN   \n",
       "7611  10872                    NaN                          NaN   \n",
       "\n",
       "                                                   text  target  \n",
       "48    Check these out: http://t.co/rOI2NSmEJJ http:/...       0  \n",
       "115   320 [IR] ICEMOON [AFTERSHOCK] | http://t.co/vA...       0  \n",
       "119   320 [IR] ICEMOON [AFTERSHOCK] | http://t.co/TH...       0  \n",
       "164   Experts in France begin examining airplane deb...       1  \n",
       "624                          To fight bioterrorism sir.       0  \n",
       "630                          To fight bioterrorism sir.       1  \n",
       "634                          To fight bioterrorism sir.       0  \n",
       "1156  Japan on Thursday marks the 70th anniversary o...       1  \n",
       "1251  #TweetLikeItsSeptember11th2001 Those two build...       1  \n",
       "1331  Mmmmmm I'm burning.... I'm burning buildings I...       0  \n",
       "1332  I'm mentally preparing myself for a bomb ass s...       0  \n",
       "1335  @fewmoretweets all lives matter. Just not a fa...       1  \n",
       "1343  @themagickidraps not upset with a rally upset ...       1  \n",
       "1345  Burning buildings? Media outrage? http://t.co/...       1  \n",
       "1349  like for the music video I want some real acti...       0  \n",
       "1356  @_minimehh @cjoyner I must be overlooking the ...       1  \n",
       "1360  Schools in Western Uganda still Burning down B...       1  \n",
       "1365  I Pledge Allegiance To The P.O.P.E. And The Bu...       1  \n",
       "1623  Warne shocked over Australia's epic collapse a...       1  \n",
       "1725  #Newswatch: 2 vehicles collided at Lock and La...       1  \n",
       "2352  General News Û¢åÊ'Demolition of houses on wat...       0  \n",
       "2441  Madhya Pradesh Train Derailment: Village Youth...       1  \n",
       "2449  Madhya Pradesh Train Derailment: Village Youth...       1  \n",
       "2452  Madhya Pradesh Train Derailment: Village Youth...       1  \n",
       "2454  Madhya Pradesh Train Derailment: Village Youth...       1  \n",
       "2456  Madhya Pradesh Train Derailment: Village Youth...       1  \n",
       "2477  Madhya Pradesh Train Derailment: Village Youth...       1  \n",
       "2655  @spinningbot Are you another Stand-user? If yo...       0  \n",
       "2666  @TinyJecht Are you another Stand-user? If you ...       0  \n",
       "2674  @spinningbot Are you another Stand-user? If yo...       0  \n",
       "2679  @TinyJecht Are you another Stand-user? If you ...       0  \n",
       "2828  #KCA #VoteJKT48ID 12News: UPDATE: A family of ...       1  \n",
       "2831  .POTUS #StrategicPatience is a strategy for #G...       1  \n",
       "2832  .POTUS #StrategicPatience is a strategy for #G...       0  \n",
       "2833  .POTUS #StrategicPatience is a strategy for #G...       1  \n",
       "2841  #Myanmar  Displaced #Rohingya at #Sittwe point...       1  \n",
       "3243  He came to a land which was engulfed in tribal...       1  \n",
       "3248  He came to a land which was engulfed in tribal...       1  \n",
       "3251  He came to a land which was engulfed in tribal...       0  \n",
       "3261  He came to a land which was engulfed in tribal...       0  \n",
       "3266  He came to a land which was engulfed in tribal...       0  \n",
       "3374  Elem Pomo helping the displaced from the Rocky...       1  \n",
       "3382  @batfanuk we enjoyed the show today. Great fun...       0  \n",
       "3390  New evacuation ordered for 25 homes in danger ...       1  \n",
       "3461  that exploded &amp; brought about the\\nbeginni...       0  \n",
       "3589  11-Year-Old Boy Charged With Manslaughter of T...       1  \n",
       "3591  11-Year-Old Boy Charged With Manslaughter of T...       1  \n",
       "3597  11-Year-Old Boy Charged With Manslaughter of T...       1  \n",
       "3600  11-Year-Old Boy Charged With Manslaughter of T...       1  \n",
       "3603  11-Year-Old Boy Charged With Manslaughter of T...       1  \n",
       "3604  11-Year-Old Boy Charged With Manslaughter of T...       1  \n",
       "3610  11-Year-Old Boy Charged With Manslaughter of T...       1  \n",
       "3613  11-Year-Old Boy Charged With Manslaughter of T...       1  \n",
       "3614  11-Year-Old Boy Charged With Manslaughter of T...       1  \n",
       "3795  #SigAlert: North &amp; Southbound 133 closed b...       1  \n",
       "4013  Who is bringing the tornadoes and floods. Who ...       0  \n",
       "4019  Who is bringing the tornadoes and floods. Who ...       0  \n",
       "4235  Caution: breathing may be hazardous to your he...       0  \n",
       "4239  #foodscare #offers2go #NestleIndia slips into ...       1  \n",
       "4244  #foodscare #offers2go #NestleIndia slips into ...       0  \n",
       "4286  The Prophet (peace be upon him) said 'Save you...       0  \n",
       "4291  Beware of your temper and a loose tongue! Thes...       0  \n",
       "4292  The Prophet (peace be upon him) said 'Save you...       1  \n",
       "4299  #Allah describes piling up #wealth thinking it...       0  \n",
       "4303  Beware of your temper and a loose tongue! Thes...       0  \n",
       "4304  The Prophet (peace be upon him) said 'Save you...       0  \n",
       "4305  Hellfire is surrounded by desires so be carefu...       1  \n",
       "4308  Hellfire is surrounded by desires so be carefu...       0  \n",
       "4309  The Prophet (peace be upon him) said 'Save you...       0  \n",
       "4310  Hellfire! We donÛªt even want to think about ...       0  \n",
       "4312  #Allah describes piling up #wealth thinking it...       1  \n",
       "4313  Hellfire is surrounded by desires so be carefu...       0  \n",
       "4318  The Prophet (peace be upon him) said 'Save you...       1  \n",
       "4320  Hellfire! We donÛªt even want to think about ...       1  \n",
       "4351  Swansea Û÷plot hijack transfer move for South...       1  \n",
       "4381  RT NotExplained: The only known image of infam...       1  \n",
       "4601  Traffic Collision - No Injury: I5 S at I5 S 43...       1  \n",
       "4605  CLEARED:incident with injury:I-495  inner loop...       1  \n",
       "4618  CLEARED:incident with injury:I-495  inner loop...       0  \n",
       "4631  incident with injury:I-495  inner loop Exit 31...       1  \n",
       "4834  http://t.co/c1H7JECFrV @RoyalCarribean do your...       1  \n",
       "5073  Top insurer blasts lack of Australian Govt act...       1  \n",
       "5292  Families to sue over Legionnaires: More than 4...       1  \n",
       "5641  wowo--=== 12000 Nigerian refugees repatriated ...       0  \n",
       "5665  UD: Rescue (Structural Collapse) - Scott Road ...       1  \n",
       "5720  VIDEO: 'We're picking up bodies from water': R...       1  \n",
       "5723  VIDEO: 'We're picking up bodies from water': R...       1  \n",
       "5734  VIDEO: 'We're picking up bodies from water': R...       1  \n",
       "5771  Stuart Broad Takes Eight Before Joe Root Runs ...       0  \n",
       "6094  that horrible sinking feeling when youÛªve be...       0  \n",
       "6103  that horrible sinking feeling when youÛªve be...       0  \n",
       "6123  that horrible sinking feeling when youÛªve be...       1  \n",
       "6366  #Bestnaijamade: 16yr old PKK suicide bomber wh...       1  \n",
       "6373  #Bestnaijamade: 16yr old PKK suicide bomber wh...       1  \n",
       "6377  #Bestnaijamade: 16yr old PKK suicide bomber wh...       1  \n",
       "6378  #Bestnaijamade: 16yr old PKK suicide bomber wh...       1  \n",
       "6392  #Bestnaijamade: 16yr old PKK suicide bomber wh...       1  \n",
       "6449  'Suicide bombing at [location named]...' #prem...       1  \n",
       "6616  In #islam saving a person is equal in reward t...       1  \n",
       "6656  RT AbbsWinston: #Zionist #Terrorist kidnapped ...       1  \n",
       "7026  abcnews - Obama Declares Disaster for Typhoon-...       1  \n",
       "7034  (#LosDelSonido) Obama Declares Disaster for Ty...       1  \n",
       "7135  USGS reports a M1.94 #earthquake 5km S of Volc...       1  \n",
       "7533  Wreckage 'Conclusively Confirmed' as From MH37...       1  \n",
       "7537  Wreckage 'Conclusively Confirmed' as From MH37...       1  \n",
       "7600  Evacuation order lifted for town of Roosevelt:...       1  \n",
       "7607  #stormchase Violent Record Breaking EF-5 El Re...       1  \n",
       "7609  @aria_ahrary @TheTawniest The out of control w...       1  \n",
       "7610  M1.94 [01:04 UTC]?5km S of Volcano Hawaii. htt...       1  \n",
       "7611  Police investigating after an e-bike collided ...       1  "
      ]
     },
     "execution_count": 16,
     "metadata": {},
     "output_type": "execute_result"
    }
   ],
   "source": [
    "data_train[data_train.text.duplicated() == True]"
   ]
  },
  {
   "cell_type": "markdown",
   "id": "d5158af8-d578-4069-9363-d602016d1c05",
   "metadata": {},
   "source": [
    " "
   ]
  },
  {
   "cell_type": "markdown",
   "id": "6e42ce53-498b-447a-ad68-d949beac70a0",
   "metadata": {},
   "source": [
    "Observing the duplicate data, here are some key points:\n",
    "\n",
    "* Some of the duplicate Tweets are labelled both positively and negatively.\n",
    "* However, in these duplicates with differing labels, the keywords are always the same.\n",
    "* Location does not appear to have any obvious relevance.\n",
    "\n",
    "Thus, we will not need \"location\", \"keyword\" and \"id\" (since it appears to be redundant) in our model. However, we will not remove them from the train dataframe. This will be taken care of when we tokenize the train \"text\" data."
   ]
  },
  {
   "cell_type": "markdown",
   "id": "890c32dc-b45d-4f37-96ac-9063ca9a90a0",
   "metadata": {},
   "source": [
    " "
   ]
  },
  {
   "cell_type": "markdown",
   "id": "1a67a786-00fe-44ce-8a87-3b52cbd6cb97",
   "metadata": {},
   "source": [
    "##  Part 3: Model Architecture"
   ]
  },
  {
   "cell_type": "markdown",
   "id": "8964c688-e1eb-43e2-bf45-27f77f33b963",
   "metadata": {},
   "source": [
    " "
   ]
  },
  {
   "cell_type": "markdown",
   "id": "6e09c27a-55d0-456f-8479-444147b1da42",
   "metadata": {},
   "source": [
    "Before building our model, we will need to prepoare the data. First we will do some text cleaning:\n",
    "    \n",
    "* Remove non-English characters\n",
    "* Convert to lower case\n",
    "* Remove white spaces\n",
    "* Remove the most common words (like articles, prepositions, pronouns, conjunctions, etc) that do not add much information to the text (ie. stop words) \n",
    "* Remove suffixes from words (ie. stemming)"
   ]
  },
  {
   "cell_type": "code",
   "execution_count": 21,
   "id": "2ec100d7-6a91-485d-b40d-203e630b296a",
   "metadata": {},
   "outputs": [],
   "source": [
    "def text_cleaner(var):\n",
    "    sw = set(stopwords.words('english'))\n",
    "    ps = PorterStemmer() \n",
    "\n",
    "    # tokenize the word using nltk  \n",
    "    my_text = nltk.word_tokenize(var)\n",
    "\n",
    "    # remove not english characters, lower case and remove the white space at end \n",
    "    my_text = re.sub('[^A-Za-z0-9]+', \" \", var).lower().strip()\n",
    "\n",
    "    # remove stop words \n",
    "    my_text = [word for word in my_text.split() if word not in sw]\n",
    "\n",
    "    # stemming\n",
    "    my_text = [ps.stem(word) for word in my_text]\n",
    "\n",
    "    # convert back to sentence\n",
    "    my_text = ' '.join(my_text)\n",
    "\n",
    "    return my_text"
   ]
  },
  {
   "cell_type": "code",
   "execution_count": 22,
   "id": "1f1bc2ac-5d15-4f25-8cdf-b14407f2250e",
   "metadata": {},
   "outputs": [
    {
     "data": {
      "text/html": [
       "<div>\n",
       "<style scoped>\n",
       "    .dataframe tbody tr th:only-of-type {\n",
       "        vertical-align: middle;\n",
       "    }\n",
       "\n",
       "    .dataframe tbody tr th {\n",
       "        vertical-align: top;\n",
       "    }\n",
       "\n",
       "    .dataframe thead th {\n",
       "        text-align: right;\n",
       "    }\n",
       "</style>\n",
       "<table border=\"1\" class=\"dataframe\">\n",
       "  <thead>\n",
       "    <tr style=\"text-align: right;\">\n",
       "      <th></th>\n",
       "      <th>text</th>\n",
       "      <th>target</th>\n",
       "    </tr>\n",
       "  </thead>\n",
       "  <tbody>\n",
       "    <tr>\n",
       "      <th>0</th>\n",
       "      <td>deed reason earthquak may allah forgiv us</td>\n",
       "      <td>1</td>\n",
       "    </tr>\n",
       "    <tr>\n",
       "      <th>1</th>\n",
       "      <td>forest fire near la rong sask canada</td>\n",
       "      <td>1</td>\n",
       "    </tr>\n",
       "    <tr>\n",
       "      <th>2</th>\n",
       "      <td>resid ask shelter place notifi offic evacu she...</td>\n",
       "      <td>1</td>\n",
       "    </tr>\n",
       "    <tr>\n",
       "      <th>3</th>\n",
       "      <td>13 000 peopl receiv wildfir evacu order califo...</td>\n",
       "      <td>1</td>\n",
       "    </tr>\n",
       "    <tr>\n",
       "      <th>4</th>\n",
       "      <td>got sent photo rubi alaska smoke wildfir pour ...</td>\n",
       "      <td>1</td>\n",
       "    </tr>\n",
       "  </tbody>\n",
       "</table>\n",
       "</div>"
      ],
      "text/plain": [
       "                                                text  target\n",
       "0          deed reason earthquak may allah forgiv us       1\n",
       "1               forest fire near la rong sask canada       1\n",
       "2  resid ask shelter place notifi offic evacu she...       1\n",
       "3  13 000 peopl receiv wildfir evacu order califo...       1\n",
       "4  got sent photo rubi alaska smoke wildfir pour ...       1"
      ]
     },
     "execution_count": 22,
     "metadata": {},
     "output_type": "execute_result"
    }
   ],
   "source": [
    "data_train['text'] = data_train['text'].apply(text_cleaner)\n",
    "data_train.head()"
   ]
  },
  {
   "cell_type": "markdown",
   "id": "3f4a3248-3250-44a5-b2ff-3e8f5de3f246",
   "metadata": {},
   "source": [
    " "
   ]
  },
  {
   "cell_type": "markdown",
   "id": "7ecc6ea5-da45-4436-9161-4d4ba3d970f9",
   "metadata": {},
   "source": [
    "Tokenizing is the process of changing words into integers. This will aid in the data processing."
   ]
  },
  {
   "cell_type": "code",
   "execution_count": 23,
   "id": "1f039f10-333c-48d0-8506-02bc4e826ac9",
   "metadata": {},
   "outputs": [],
   "source": [
    "tokenizer = Tokenizer()\n",
    "tokenizer.fit_on_texts(data_train.text.values)\n",
    "data_train['tokenized'] = tokenizer.texts_to_sequences(data_train.text.values)"
   ]
  },
  {
   "cell_type": "code",
   "execution_count": 24,
   "id": "ebcbc9e3-23d6-45cf-9a9e-31cefdbfbcc7",
   "metadata": {},
   "outputs": [
    {
     "data": {
      "text/html": [
       "<div>\n",
       "<style scoped>\n",
       "    .dataframe tbody tr th:only-of-type {\n",
       "        vertical-align: middle;\n",
       "    }\n",
       "\n",
       "    .dataframe tbody tr th {\n",
       "        vertical-align: top;\n",
       "    }\n",
       "\n",
       "    .dataframe thead th {\n",
       "        text-align: right;\n",
       "    }\n",
       "</style>\n",
       "<table border=\"1\" class=\"dataframe\">\n",
       "  <thead>\n",
       "    <tr style=\"text-align: right;\">\n",
       "      <th></th>\n",
       "      <th>text</th>\n",
       "      <th>target</th>\n",
       "      <th>tokenized</th>\n",
       "    </tr>\n",
       "  </thead>\n",
       "  <tbody>\n",
       "    <tr>\n",
       "      <th>0</th>\n",
       "      <td>deed reason earthquak may allah forgiv us</td>\n",
       "      <td>1</td>\n",
       "      <td>[3848, 497, 229, 99, 1424, 3065, 44]</td>\n",
       "    </tr>\n",
       "    <tr>\n",
       "      <th>1</th>\n",
       "      <td>forest fire near la rong sask canada</td>\n",
       "      <td>1</td>\n",
       "      <td>[152, 4, 201, 592, 5577, 5578, 1088]</td>\n",
       "    </tr>\n",
       "    <tr>\n",
       "      <th>2</th>\n",
       "      <td>resid ask shelter place notifi offic evacu she...</td>\n",
       "      <td>1</td>\n",
       "      <td>[1425, 551, 1726, 425, 5579, 230, 39, 1726, 42...</td>\n",
       "    </tr>\n",
       "    <tr>\n",
       "      <th>3</th>\n",
       "      <td>13 000 peopl receiv wildfir evacu order califo...</td>\n",
       "      <td>1</td>\n",
       "      <td>[696, 2570, 12, 2571, 113, 39, 334, 48]</td>\n",
       "    </tr>\n",
       "    <tr>\n",
       "      <th>4</th>\n",
       "      <td>got sent photo rubi alaska smoke wildfir pour ...</td>\n",
       "      <td>1</td>\n",
       "      <td>[62, 1089, 149, 3849, 1556, 226, 113, 2572, 138]</td>\n",
       "    </tr>\n",
       "  </tbody>\n",
       "</table>\n",
       "</div>"
      ],
      "text/plain": [
       "                                                text  target  \\\n",
       "0          deed reason earthquak may allah forgiv us       1   \n",
       "1               forest fire near la rong sask canada       1   \n",
       "2  resid ask shelter place notifi offic evacu she...       1   \n",
       "3  13 000 peopl receiv wildfir evacu order califo...       1   \n",
       "4  got sent photo rubi alaska smoke wildfir pour ...       1   \n",
       "\n",
       "                                           tokenized  \n",
       "0               [3848, 497, 229, 99, 1424, 3065, 44]  \n",
       "1               [152, 4, 201, 592, 5577, 5578, 1088]  \n",
       "2  [1425, 551, 1726, 425, 5579, 230, 39, 1726, 42...  \n",
       "3            [696, 2570, 12, 2571, 113, 39, 334, 48]  \n",
       "4   [62, 1089, 149, 3849, 1556, 226, 113, 2572, 138]  "
      ]
     },
     "execution_count": 24,
     "metadata": {},
     "output_type": "execute_result"
    }
   ],
   "source": [
    "data_train.head()"
   ]
  },
  {
   "cell_type": "markdown",
   "id": "b08d809b-8f9d-4aec-aa4b-0c94bb9ee725",
   "metadata": {},
   "source": [
    " "
   ]
  },
  {
   "cell_type": "markdown",
   "id": "e969feb3-d39b-4604-a84c-af5d62a736a1",
   "metadata": {},
   "source": [
    "We will now begin to create our \"X\" training set. We will begin by creating a separate copy of the tokenized column."
   ]
  },
  {
   "cell_type": "code",
   "execution_count": 25,
   "id": "cae29db3-683e-47c9-9874-9de89a845879",
   "metadata": {},
   "outputs": [
    {
     "data": {
      "text/plain": [
       "0                    [3848, 497, 229, 99, 1424, 3065, 44]\n",
       "1                    [152, 4, 201, 592, 5577, 5578, 1088]\n",
       "2       [1425, 551, 1726, 425, 5579, 230, 39, 1726, 42...\n",
       "3                 [696, 2570, 12, 2571, 113, 39, 334, 48]\n",
       "4        [62, 1089, 149, 3849, 1556, 226, 113, 2572, 138]\n",
       "                              ...                        \n",
       "7608    [69, 719, 1067, 560, 329, 57, 590, 33, 2, 1, 1...\n",
       "7609    [5554, 5555, 5556, 517, 254, 4, 48, 104, 166, ...\n",
       "7610    [2491, 2162, 612, 1080, 1412, 1413, 442, 1414,...\n",
       "7611    [32, 187, 491, 2075, 127, 58, 253, 4446, 491, ...\n",
       "7612    [188, 33, 424, 166, 48, 113, 587, 14, 2, 1, 18...\n",
       "Name: tokenized, Length: 7613, dtype: object"
      ]
     },
     "execution_count": 25,
     "metadata": {},
     "output_type": "execute_result"
    }
   ],
   "source": [
    "data_train_token = data_train.tokenized\n",
    "data_train_token"
   ]
  },
  {
   "cell_type": "markdown",
   "id": "d728ba2a-aeda-4488-9efb-14bad39b179a",
   "metadata": {},
   "source": [
    " "
   ]
  },
  {
   "cell_type": "markdown",
   "id": "5b28dba8-36e6-454a-a2b3-65e4be5e4021",
   "metadata": {},
   "source": [
    "We will next add padding to each token sequence. Zeroes are added to the endo of each sequence to normalize the length of each tokenized text string."
   ]
  },
  {
   "cell_type": "code",
   "execution_count": 26,
   "id": "b686aed8-dde8-4a71-9b86-60907d3ecd87",
   "metadata": {},
   "outputs": [
    {
     "data": {
      "text/plain": [
       "array([[3848,  497,  229, ...,    0,    0,    0],\n",
       "       [ 152,    4,  201, ...,    0,    0,    0],\n",
       "       [1425,  551, 1726, ...,    0,    0,    0],\n",
       "       ...,\n",
       "       [2491, 2162,  612, ...,    0,    0,    0],\n",
       "       [  32,  187,  491, ...,    0,    0,    0],\n",
       "       [ 188,   33,  424, ...,    0,    0,    0]], dtype=int32)"
      ]
     },
     "execution_count": 26,
     "metadata": {},
     "output_type": "execute_result"
    }
   ],
   "source": [
    "data_train_token = pad_sequences(data_train_token, maxlen = 50, padding = 'post')\n",
    "data_train_token"
   ]
  },
  {
   "cell_type": "markdown",
   "id": "02798362-3658-41f3-8fd5-ebe99ffc072f",
   "metadata": {},
   "source": [
    " "
   ]
  },
  {
   "cell_type": "markdown",
   "id": "0682108c-76fb-44fd-ba92-26267cacc590",
   "metadata": {},
   "source": [
    "Before building the model, we will divide the training dataset into a training and validation set."
   ]
  },
  {
   "cell_type": "code",
   "execution_count": 27,
   "id": "1370aff3-ff55-49e2-ba82-8dd8781f8fd3",
   "metadata": {},
   "outputs": [],
   "source": [
    "x_train, x_val, y_train, y_val = train_test_split(data_train_token, data_train.target.values, test_size = 0.2, random_state=56)"
   ]
  },
  {
   "cell_type": "markdown",
   "id": "492ed9e8-8d9a-42d4-b103-2b35cffb6ffc",
   "metadata": {},
   "source": [
    " "
   ]
  },
  {
   "cell_type": "markdown",
   "id": "950536de-ace3-4510-9832-229fd6cd902a",
   "metadata": {},
   "source": [
    "Let us take a look at the shapes of both x_train and y_train."
   ]
  },
  {
   "cell_type": "code",
   "execution_count": 28,
   "id": "376f6059-48d3-4a38-b539-44e3ea3c8a53",
   "metadata": {},
   "outputs": [
    {
     "data": {
      "text/plain": [
       "(6090, 50)"
      ]
     },
     "execution_count": 28,
     "metadata": {},
     "output_type": "execute_result"
    }
   ],
   "source": [
    "x_train.shape"
   ]
  },
  {
   "cell_type": "code",
   "execution_count": 29,
   "id": "295887f3-c6fe-4224-8486-abf91ce7d9c3",
   "metadata": {},
   "outputs": [
    {
     "data": {
      "text/plain": [
       "(6090,)"
      ]
     },
     "execution_count": 29,
     "metadata": {},
     "output_type": "execute_result"
    }
   ],
   "source": [
    "y_train.shape"
   ]
  },
  {
   "cell_type": "markdown",
   "id": "fad37d78-584b-4806-99cc-3e136618fbfd",
   "metadata": {},
   "source": [
    " "
   ]
  },
  {
   "cell_type": "markdown",
   "id": "126567fa-2cff-4be5-b1ce-b54d4dc21fd1",
   "metadata": {},
   "source": [
    "We will need to reshape both y_train and y_val."
   ]
  },
  {
   "cell_type": "code",
   "execution_count": 30,
   "id": "f3089d23-e8e4-466f-bbbc-e1b2366b7ac2",
   "metadata": {},
   "outputs": [
    {
     "data": {
      "text/plain": [
       "(6090, 1)"
      ]
     },
     "execution_count": 30,
     "metadata": {},
     "output_type": "execute_result"
    }
   ],
   "source": [
    "y_train = y_train.reshape((-1, 1))\n",
    "y_val = y_val.reshape((-1, 1))\n",
    "y_train.shape"
   ]
  },
  {
   "cell_type": "markdown",
   "id": "1e2d7bec-3011-4d10-a6d9-2691f0cb2fbc",
   "metadata": {},
   "source": [
    " "
   ]
  },
  {
   "cell_type": "markdown",
   "id": "452f7895-c523-49f2-b51b-8b0ed172bda0",
   "metadata": {},
   "source": [
    "We will now the word word-to-integer mapping."
   ]
  },
  {
   "cell_type": "code",
   "execution_count": 32,
   "id": "2224d49a-9e56-48ee-b2a5-a03e9926ea09",
   "metadata": {},
   "outputs": [
    {
     "name": "stdout",
     "output_type": "stream",
     "text": [
      "Found 18432 unique tokens.\n"
     ]
    }
   ],
   "source": [
    "word2idx = tokenizer.word_index\n",
    "num_words = len(tokenizer.word_index)\n",
    "print('Found %s unique tokens.' % num_words)"
   ]
  },
  {
   "cell_type": "markdown",
   "id": "1d252a91-bb25-48ce-9a25-0cf073ffb682",
   "metadata": {},
   "source": [
    " "
   ]
  },
  {
   "cell_type": "markdown",
   "id": "3043ca08-1229-4660-85eb-54c0e8d8533b",
   "metadata": {},
   "source": [
    "### Model 1\n",
    "\n",
    "For our model, we will implement Long Short-Term Memory (LSTM) model. Below is a brief summary of why a LSTM should be used:\n",
    "\n",
    "Due to the transformations that the data goes through when traversing an RNN, some information is lost at each time step. After a while, the RNN’s state contains virtually no trace of the first inputs. To tackle this problem, various types of models with long-term memory have been introduced, such as the LSTM. In short, an LSTM cell can learn to recognize an important input, store it in the long-term state, preserve it for as long as it is needed, and extract it whenever it is needed. This explains why these cells have been amazingly successful at capturing long-term patterns.\n",
    "\n",
    "To begin, we will implement a very simple model as shown below:\n",
    "\n",
    "Input -> LSTM -> LSTM -> Dense (ReLU) -> Dense (Sigmoid)"
   ]
  },
  {
   "cell_type": "code",
   "execution_count": 33,
   "id": "2a5057e9-c3f4-4313-b050-313dfdf97b95",
   "metadata": {},
   "outputs": [
    {
     "name": "stdout",
     "output_type": "stream",
     "text": [
      "Model: \"sequential\"\n",
      "_________________________________________________________________\n",
      " Layer (type)                Output Shape              Param #   \n",
      "=================================================================\n",
      " embedding (Embedding)       (None, 50, 32)            589824    \n",
      "                                                                 \n",
      " lstm (LSTM)                 (None, 50, 64)            24832     \n",
      "                                                                 \n",
      " lstm_1 (LSTM)               (None, 32)                12416     \n",
      "                                                                 \n",
      " dense (Dense)               (None, 24)                792       \n",
      "                                                                 \n",
      " dense_1 (Dense)             (None, 1)                 25        \n",
      "                                                                 \n",
      "=================================================================\n",
      "Total params: 627,889\n",
      "Trainable params: 627,889\n",
      "Non-trainable params: 0\n",
      "_________________________________________________________________\n"
     ]
    }
   ],
   "source": [
    "model1 = Sequential()\n",
    "\n",
    "model1.add(Embedding(input_dim = num_words, output_dim = 32, input_length = 50))\n",
    "\n",
    "model1.add(LSTM(64, return_sequences=True))\n",
    "\n",
    "model1.add(LSTM(32))\n",
    "\n",
    "model1.add(Dense(units = 24, activation = 'relu'))\n",
    "\n",
    "model1.add(Dense(units = 1, activation = 'sigmoid'))\n",
    "\n",
    "'''\n",
    "We do not need to specify the length of the input sequences since a recurrent neural network can \n",
    "process any number of time steps. This is why we set the first input shape dimension to\n",
    "\"None\".\n",
    "'''\n",
    "model1.build(input_shape = (None, 50))\n",
    "\n",
    "model1.summary()"
   ]
  },
  {
   "cell_type": "markdown",
   "id": "074ed913-4551-47bc-8c5e-317d637c3cce",
   "metadata": {},
   "source": [
    " "
   ]
  },
  {
   "cell_type": "markdown",
   "id": "7d0760f7-089c-4f42-87e9-b6436045aca0",
   "metadata": {},
   "source": [
    "Model1 will use Adam optimization (with default values) and binary cross-entropy for loss. Training will occur over 15 epochs."
   ]
  },
  {
   "cell_type": "code",
   "execution_count": 34,
   "id": "6584862c-41c2-4f2b-8711-747118384b9b",
   "metadata": {},
   "outputs": [],
   "source": [
    "opt = Adam()\n",
    "model1_epochs = 15\n",
    "\n",
    "model1.compile(optimizer=opt, loss='binary_crossentropy', metrics=['accuracy'])"
   ]
  },
  {
   "cell_type": "code",
   "execution_count": 35,
   "id": "24ccc23f-e2fb-48ce-9b29-5c82d0c624f8",
   "metadata": {},
   "outputs": [
    {
     "name": "stdout",
     "output_type": "stream",
     "text": [
      "Epoch 1/15\n",
      "191/191 [==============================] - 17s 63ms/step - loss: 0.6422 - accuracy: 0.6302 - val_loss: 0.5277 - val_accuracy: 0.7840\n",
      "Epoch 2/15\n",
      "191/191 [==============================] - 11s 58ms/step - loss: 0.4628 - accuracy: 0.8245 - val_loss: 0.5145 - val_accuracy: 0.7873\n",
      "Epoch 3/15\n",
      "191/191 [==============================] - 11s 57ms/step - loss: 0.4281 - accuracy: 0.8411 - val_loss: 0.5943 - val_accuracy: 0.7400\n",
      "Epoch 4/15\n",
      "191/191 [==============================] - 11s 58ms/step - loss: 0.4524 - accuracy: 0.8143 - val_loss: 0.6025 - val_accuracy: 0.7663\n",
      "Epoch 5/15\n",
      "191/191 [==============================] - 11s 60ms/step - loss: 0.4401 - accuracy: 0.8220 - val_loss: 0.5676 - val_accuracy: 0.7177\n",
      "Epoch 6/15\n",
      "191/191 [==============================] - 12s 61ms/step - loss: 0.4395 - accuracy: 0.8218 - val_loss: 0.5298 - val_accuracy: 0.7794\n",
      "Epoch 7/15\n",
      "191/191 [==============================] - 11s 59ms/step - loss: 0.3974 - accuracy: 0.8506 - val_loss: 0.5264 - val_accuracy: 0.7840\n",
      "Epoch 8/15\n",
      "191/191 [==============================] - 11s 59ms/step - loss: 0.3622 - accuracy: 0.8713 - val_loss: 0.5625 - val_accuracy: 0.7866\n",
      "Epoch 9/15\n",
      "191/191 [==============================] - 12s 61ms/step - loss: 0.3339 - accuracy: 0.8898 - val_loss: 0.6248 - val_accuracy: 0.7748\n",
      "Epoch 10/15\n",
      "191/191 [==============================] - 11s 59ms/step - loss: 0.3057 - accuracy: 0.9064 - val_loss: 0.6277 - val_accuracy: 0.7768\n",
      "Epoch 11/15\n",
      "191/191 [==============================] - 11s 57ms/step - loss: 0.2798 - accuracy: 0.9182 - val_loss: 0.6445 - val_accuracy: 0.7689\n",
      "Epoch 12/15\n",
      "191/191 [==============================] - 11s 59ms/step - loss: 0.2633 - accuracy: 0.9253 - val_loss: 0.6679 - val_accuracy: 0.7695\n",
      "Epoch 13/15\n",
      "191/191 [==============================] - 12s 60ms/step - loss: 0.2522 - accuracy: 0.9297 - val_loss: 0.6802 - val_accuracy: 0.7669\n",
      "Epoch 14/15\n",
      "191/191 [==============================] - 12s 61ms/step - loss: 0.2527 - accuracy: 0.9299 - val_loss: 0.6562 - val_accuracy: 0.7702\n",
      "Epoch 15/15\n",
      "191/191 [==============================] - 12s 61ms/step - loss: 0.2381 - accuracy: 0.9353 - val_loss: 0.6800 - val_accuracy: 0.7649\n"
     ]
    }
   ],
   "source": [
    "startTime1 = time.time()\n",
    "history1 = model1.fit(x_train, y_train, epochs = model1_epochs, validation_data = [x_val, y_val])\n",
    "endTime1 = time.time()"
   ]
  },
  {
   "cell_type": "markdown",
   "id": "2dc9a781-de49-4c0a-a61a-cbb3c9d03d2c",
   "metadata": {},
   "source": [
    " "
   ]
  },
  {
   "cell_type": "markdown",
   "id": "20bafb2f-61ea-4a1b-bd5c-e45638f90ce5",
   "metadata": {},
   "source": [
    "Now let us take a look at the results from model1."
   ]
  },
  {
   "cell_type": "code",
   "execution_count": 36,
   "id": "15c4dc7b-c6f0-4dc8-8918-83a14b8dc26c",
   "metadata": {},
   "outputs": [
    {
     "name": "stdout",
     "output_type": "stream",
     "text": [
      "The final results for model 1:\n",
      "\n",
      "Training Time = 2.933 minutes\n",
      "Accuracy = 0.935\n",
      "Loss = 0.238\n",
      "Validation Accuracy = 0.765\n",
      "Validation Loss = 0.68\n",
      "\n",
      "\n"
     ]
    },
    {
     "data": {
      "text/plain": [
       "<function matplotlib.pyplot.show(close=None, block=None)>"
      ]
     },
     "execution_count": 36,
     "metadata": {},
     "output_type": "execute_result"
    },
    {
     "data": {
      "image/png": "[encoded data removed]",
      "text/plain": [
       "<Figure size 1500x1500 with 4 Axes>"
      ]
     },
     "metadata": {},
     "output_type": "display_data"
    }
   ],
   "source": [
    "model1_accuracy = round((history1.history[\"accuracy\"][model1_epochs - 1]), 3)\n",
    "model1_loss = round((history1.history[\"loss\"][model1_epochs - 1]), 3)\n",
    "model1_val_accuracy = round((history1.history[\"val_accuracy\"][model1_epochs - 1]), 3)\n",
    "model1_val_loss = round((history1.history[\"val_loss\"][model1_epochs - 1]), 3)\n",
    "model1_train_time = round((endTime1 - startTime1) / 60, 3)\n",
    "\n",
    "print(\"The final results for model 1:\")\n",
    "print(f\"\\nTraining Time = {model1_train_time} minutes\")\n",
    "print(f\"Accuracy = {model1_accuracy}\")\n",
    "print(f\"Loss = {model1_loss}\")\n",
    "print(f\"Validation Accuracy = {model1_val_accuracy}\")\n",
    "print(f\"Validation Loss = {model1_val_loss}\\n\\n\")\n",
    "\n",
    "# Initialise the subplot function using number of rows and columns\n",
    "figure, axis = plt.subplots(2, 2)\n",
    "figure.tight_layout(pad = 2)\n",
    "figure.set_figheight(15)\n",
    "figure.set_figwidth(15)\n",
    "\n",
    "# Make a nice visualization of our test model: Training Accuracy Vs. Epoch\n",
    "testAccs = history1.history[\"accuracy\"]\n",
    "epochs = [i for i in range(len(testAccs))]\n",
    "axis[0, 0].plot(epochs, testAccs)\n",
    "axis[0, 0].set_xlabel(\"Epoch\")\n",
    "axis[0, 0].set_ylabel(\"Training Accuracy\")\n",
    "axis[0, 0].set_title(\"Training Accuracy Vs. Epoch\")\n",
    "\n",
    "# Make another nice visualization: Loss Vs. Epoch\n",
    "testLosses = history1.history[\"loss\"]\n",
    "axis[0, 1].plot(epochs, testLosses)\n",
    "axis[0, 1].set_xlabel(\"Epoch\")\n",
    "axis[0, 1].set_ylabel(\"Training Loss\")\n",
    "axis[0, 1].set_title(\"Training Loss Vs. Epoch\")\n",
    "\n",
    "# Make a nice visualization of our test model: Validation Accuracy Vs. Epoch\n",
    "testAccs = history1.history[\"val_accuracy\"]\n",
    "epochs = [i for i in range(len(testAccs))]\n",
    "axis[1, 0].plot(epochs, testAccs)\n",
    "axis[1, 0].set_xlabel(\"Epoch\")\n",
    "axis[1, 0].set_ylabel(\"Validation Accuracy\")\n",
    "axis[1, 0].set_title(\"Validation Accuracy Vs. Epoch\")\n",
    "\n",
    "# Make another nice visualization: Loss Vs. Epoch\n",
    "testLosses = history1.history[\"val_loss\"]\n",
    "axis[1, 1].plot(epochs, testLosses)\n",
    "axis[1, 1].set_xlabel(\"Epoch\")\n",
    "axis[1, 1].set_ylabel(\"Validation Loss\")\n",
    "axis[1, 1].set_title(\"Valiidation Losss Vs. Epoch\")\n",
    "\n",
    "plt.show"
   ]
  },
  {
   "cell_type": "markdown",
   "id": "ab76eaa4-cee6-4d8e-8fa8-b054a0e15265",
   "metadata": {},
   "source": [
    "Looking at the results of model1, note the below observations:\n",
    "\n",
    "* The results for both the training accuracy and training loss seem to at least on the surface give reason for optimmism. Accuracy steadily increases to a final value of 93.5%. Training loss is also steadily decreasing.\n",
    "* However the results on the validation set appear troubling. The validation accuracy seems to hover around 75%. Validation loss is steadily increasing.\n",
    "* Given the resuults of training versus validation, the model appears to be overfitting the training dataset."
   ]
  },
  {
   "cell_type": "markdown",
   "id": "77104e00-52b1-4cf9-8623-5644465c40bf",
   "metadata": {},
   "source": [
    " "
   ]
  },
  {
   "cell_type": "markdown",
   "id": "18091a98-ecfd-42a1-b172-3cf3b28ce1e7",
   "metadata": {},
   "source": [
    "### Model 2\n",
    "\n",
    "Let us attempt to rectify the issue of overfitting with the second model. Below are the key changes:\n",
    "\n",
    "* Batch normalization layers have been added at the end of each LSTM cell. The batch normalization layer should help prevent overfitting.\n",
    "* A dropout layers have been added to the ANN beteen the two dense layers. \n",
    "* At the beginnning of the ANN, a flatten layer has been added."
   ]
  },
  {
   "cell_type": "code",
   "execution_count": 37,
   "id": "867dc4ec-e79f-41e7-bd3b-986ea45810cf",
   "metadata": {},
   "outputs": [
    {
     "name": "stdout",
     "output_type": "stream",
     "text": [
      "Model: \"sequential_1\"\n",
      "_________________________________________________________________\n",
      " Layer (type)                Output Shape              Param #   \n",
      "=================================================================\n",
      " embedding_1 (Embedding)     (None, 50, 32)            589824    \n",
      "                                                                 \n",
      " lstm_2 (LSTM)               (None, 50, 64)            24832     \n",
      "                                                                 \n",
      " batch_normalization (BatchN  (None, 50, 64)           256       \n",
      " ormalization)                                                   \n",
      "                                                                 \n",
      " lstm_3 (LSTM)               (None, 32)                12416     \n",
      "                                                                 \n",
      " batch_normalization_1 (Batc  (None, 32)               128       \n",
      " hNormalization)                                                 \n",
      "                                                                 \n",
      " flatten (Flatten)           (None, 32)                0         \n",
      "                                                                 \n",
      " dense_2 (Dense)             (None, 24)                792       \n",
      "                                                                 \n",
      " dropout (Dropout)           (None, 24)                0         \n",
      "                                                                 \n",
      " dense_3 (Dense)             (None, 1)                 25        \n",
      "                                                                 \n",
      "=================================================================\n",
      "Total params: 628,273\n",
      "Trainable params: 628,081\n",
      "Non-trainable params: 192\n",
      "_________________________________________________________________\n"
     ]
    }
   ],
   "source": [
    "model2 = Sequential()\n",
    "\n",
    "model2.add(Embedding(input_dim = num_words, output_dim = 32, input_length = 50))\n",
    "\n",
    "model2.add(LSTM(64, return_sequences = True))\n",
    "\n",
    "# Normalize to prevent overfitting\n",
    "model2.add(BatchNormalization())\n",
    "\n",
    "model2.add(LSTM(32))\n",
    "\n",
    "# Normalize to prevent overfitting\n",
    "model2.add(BatchNormalization())\n",
    "\n",
    "model2.add(Flatten())\n",
    "\n",
    "model2.add(Dense(units = 24, activation = 'relu'))\n",
    "\n",
    "# Dropout layer randomly sets input units to 0 which helps prevent overfitting\n",
    "model2.add(Dropout(0.25))\n",
    "    \n",
    "model2.add(Dense(units = 1, activation = 'sigmoid'))\n",
    "\n",
    "'''\n",
    "We do not need to specify the length of the input sequences since a recurrent neural network can \n",
    "process any number of time steps. This is why we set the first input shape dimension to\n",
    "\"None\".\n",
    "'''\n",
    "model2.build(input_shape=(None, 50))\n",
    "\n",
    "model2.summary()"
   ]
  },
  {
   "cell_type": "markdown",
   "id": "7c4e593e-58da-4d25-9492-ecbf8d5277bd",
   "metadata": {},
   "source": [
    " "
   ]
  },
  {
   "cell_type": "markdown",
   "id": "770983bb-c187-496c-8c37-35758aa7304b",
   "metadata": {},
   "source": [
    "Model2 will continue to use Adam optimization (with default values) and binary cross-entropy for loss. Training will again occur over 15 epochs."
   ]
  },
  {
   "cell_type": "code",
   "execution_count": 38,
   "id": "134229a0-38d9-49b3-986b-20f0666e0b22",
   "metadata": {},
   "outputs": [],
   "source": [
    "opt = Adam()\n",
    "model2_epochs = 15\n",
    "\n",
    "model2.compile(optimizer = opt, loss = 'binary_crossentropy', metrics = ['accuracy'])"
   ]
  },
  {
   "cell_type": "code",
   "execution_count": 39,
   "id": "40fc4162-d910-424e-8987-f414ede4a23f",
   "metadata": {},
   "outputs": [
    {
     "name": "stdout",
     "output_type": "stream",
     "text": [
      "Epoch 1/15\n",
      "191/191 [==============================] - 20s 82ms/step - loss: 0.5429 - accuracy: 0.7356 - val_loss: 0.6851 - val_accuracy: 0.6415\n",
      "Epoch 2/15\n",
      "191/191 [==============================] - 15s 79ms/step - loss: 0.2984 - accuracy: 0.8869 - val_loss: 0.8246 - val_accuracy: 0.5955\n",
      "Epoch 3/15\n",
      "191/191 [==============================] - 14s 76ms/step - loss: 0.1684 - accuracy: 0.9447 - val_loss: 0.5506 - val_accuracy: 0.7892\n",
      "Epoch 4/15\n",
      "191/191 [==============================] - 14s 75ms/step - loss: 0.1148 - accuracy: 0.9611 - val_loss: 0.9157 - val_accuracy: 0.7820\n",
      "Epoch 5/15\n",
      "191/191 [==============================] - 15s 77ms/step - loss: 0.0764 - accuracy: 0.9773 - val_loss: 0.5139 - val_accuracy: 0.7584\n",
      "Epoch 6/15\n",
      "191/191 [==============================] - 14s 73ms/step - loss: 0.0591 - accuracy: 0.9818 - val_loss: 1.4463 - val_accuracy: 0.6369\n",
      "Epoch 7/15\n",
      "191/191 [==============================] - 14s 74ms/step - loss: 0.0645 - accuracy: 0.9814 - val_loss: 0.9361 - val_accuracy: 0.7104\n",
      "Epoch 8/15\n",
      "191/191 [==============================] - 15s 76ms/step - loss: 0.0631 - accuracy: 0.9806 - val_loss: 0.9018 - val_accuracy: 0.6225\n",
      "Epoch 9/15\n",
      "191/191 [==============================] - 14s 76ms/step - loss: 0.0359 - accuracy: 0.9878 - val_loss: 1.1880 - val_accuracy: 0.7623\n",
      "Epoch 10/15\n",
      "191/191 [==============================] - 14s 74ms/step - loss: 0.0401 - accuracy: 0.9859 - val_loss: 4.2745 - val_accuracy: 0.4064\n",
      "Epoch 11/15\n",
      "191/191 [==============================] - 14s 75ms/step - loss: 0.0305 - accuracy: 0.9883 - val_loss: 0.8073 - val_accuracy: 0.5726\n",
      "Epoch 12/15\n",
      "191/191 [==============================] - 15s 78ms/step - loss: 0.0327 - accuracy: 0.9887 - val_loss: 2.3199 - val_accuracy: 0.7505\n",
      "Epoch 13/15\n",
      "191/191 [==============================] - 15s 78ms/step - loss: 0.0286 - accuracy: 0.9892 - val_loss: 0.9251 - val_accuracy: 0.7315\n",
      "Epoch 14/15\n",
      "191/191 [==============================] - 15s 80ms/step - loss: 0.0295 - accuracy: 0.9895 - val_loss: 0.8720 - val_accuracy: 0.7708\n",
      "Epoch 15/15\n",
      "191/191 [==============================] - 15s 77ms/step - loss: 0.0211 - accuracy: 0.9920 - val_loss: 1.3502 - val_accuracy: 0.7807\n"
     ]
    }
   ],
   "source": [
    "startTime2 = time.time()\n",
    "history2 = model2.fit(x_train, y_train, epochs = model2_epochs, validation_data = [x_val, y_val])\n",
    "endTime2 = time.time()"
   ]
  },
  {
   "cell_type": "markdown",
   "id": "4830a2a7-3693-4ce6-ab9f-ac9d6e56b0d3",
   "metadata": {},
   "source": [
    " "
   ]
  },
  {
   "cell_type": "markdown",
   "id": "c67cf95b-ea2b-4b11-ae80-38d9c4313ba9",
   "metadata": {},
   "source": [
    "Now let us take a look at the results from model1."
   ]
  },
  {
   "cell_type": "code",
   "execution_count": 40,
   "id": "90c00e22-0f47-42e6-a13f-54aba1d69ff9",
   "metadata": {},
   "outputs": [
    {
     "name": "stdout",
     "output_type": "stream",
     "text": [
      "The final results for model 1:\n",
      "\n",
      "Training Time = 3.73 minutes\n",
      "Accuracy = 0.992\n",
      "Loss = 0.021\n",
      "Validation Accuracy = 0.781\n",
      "Validation Loss = 1.35\n",
      "\n",
      "\n"
     ]
    },
    {
     "data": {
      "text/plain": [
       "<function matplotlib.pyplot.show(close=None, block=None)>"
      ]
     },
     "execution_count": 40,
     "metadata": {},
     "output_type": "execute_result"
    },
    {
     "data": {
      "image/png": "[encoded data removed]",
      "text/plain": [
       "<Figure size 1500x1500 with 4 Axes>"
      ]
     },
     "metadata": {},
     "output_type": "display_data"
    }
   ],
   "source": [
    "model2_accuracy = round((history2.history[\"accuracy\"][model2_epochs - 1]), 3)\n",
    "model2_loss = round((history2.history[\"loss\"][model2_epochs - 1]), 3)\n",
    "model2_val_accuracy = round((history2.history[\"val_accuracy\"][model2_epochs - 1]), 3)\n",
    "model2_val_loss = round((history2.history[\"val_loss\"][model2_epochs - 1]), 3)\n",
    "model2_train_time = round((endTime2 - startTime2) / 60, 3)\n",
    "\n",
    "print(\"The final results for model 1:\")\n",
    "print(f\"\\nTraining Time = {model2_train_time} minutes\")\n",
    "print(f\"Accuracy = {model2_accuracy}\")\n",
    "print(f\"Loss = {model2_loss}\")\n",
    "print(f\"Validation Accuracy = {model2_val_accuracy}\")\n",
    "print(f\"Validation Loss = {model2_val_loss}\\n\\n\")\n",
    "\n",
    "# Initialise the subplot function using number of rows and columns\n",
    "figure, axis = plt.subplots(2, 2)\n",
    "figure.tight_layout(pad = 2)\n",
    "figure.set_figheight(15)\n",
    "figure.set_figwidth(15)\n",
    "\n",
    "# Make a nice visualization of our test model: Training Accuracy Vs. Epoch\n",
    "testAccs = history2.history[\"accuracy\"]\n",
    "epochs = [i for i in range(len(testAccs))]\n",
    "axis[0, 0].plot(epochs, testAccs)\n",
    "axis[0, 0].set_xlabel(\"Epoch\")\n",
    "axis[0, 0].set_ylabel(\"Training Accuracy\")\n",
    "axis[0, 0].set_title(\"Training Accuracy Vs. Epoch\")\n",
    "\n",
    "# Make another nice visualization: Loss Vs. Epoch\n",
    "testLosses = history2.history[\"loss\"]\n",
    "axis[0, 1].plot(epochs, testLosses)\n",
    "axis[0, 1].set_xlabel(\"Epoch\")\n",
    "axis[0, 1].set_ylabel(\"Training Loss\")\n",
    "axis[0, 1].set_title(\"Training Loss Vs. Epoch\")\n",
    "\n",
    "# Make a nice visualization of our test model: Validation Accuracy Vs. Epoch\n",
    "testAccs = history2.history[\"val_accuracy\"]\n",
    "epochs = [i for i in range(len(testAccs))]\n",
    "axis[1, 0].plot(epochs, testAccs)\n",
    "axis[1, 0].set_xlabel(\"Epoch\")\n",
    "axis[1, 0].set_ylabel(\"Validation Accuracy\")\n",
    "axis[1, 0].set_title(\"Validation Accuracy Vs. Epoch\")\n",
    "\n",
    "# Make another nice visualization: Loss Vs. Epoch\n",
    "testLosses = history2.history[\"val_loss\"]\n",
    "axis[1, 1].plot(epochs, testLosses)\n",
    "axis[1, 1].set_xlabel(\"Epoch\")\n",
    "axis[1, 1].set_ylabel(\"Validation Loss\")\n",
    "axis[1, 1].set_title(\"Valiidation Losss Vs. Epoch\")\n",
    "\n",
    "plt.show"
   ]
  },
  {
   "cell_type": "markdown",
   "id": "064f5f85-91d9-4c72-b665-9163f2d5c247",
   "metadata": {},
   "source": [
    "Model2 also appears to be overfitting the data. , note the below observations:\n",
    "\n",
    "* The results for both the training accuracy and training loss are again very good. Accuracy steadily increases to a final value of 99.2%. Training loss is also steadily decreasing and reaches a very low loss value.\n",
    "* The results on the validation set are again troubling. The validation accuracy is quite erratic but never gets higher than 78%. \n",
    "* Validation loss is generally good but you can observe a slow increase."
   ]
  },
  {
   "cell_type": "markdown",
   "id": "da5dbfb7-3add-49cc-ac4f-3f29aebb4f80",
   "metadata": {},
   "source": [
    " "
   ]
  },
  {
   "cell_type": "markdown",
   "id": "c6efe0e2-996e-4851-9201-5b1801fd4ccf",
   "metadata": {},
   "source": [
    "### Model 3\n",
    "\n",
    "We will now attempt tune our model hyperparameters to potentially resolve our overfitting issues. The below two parameters will be tuned in the model:\n",
    "\n",
    "* Initial Learning Rate (eta)\n",
    "* Decay Rate\n",
    "* Optimizers (Adam, RMSprop)\n",
    "\n",
    "The hyperparameter tuning will be run for a lower number of epochs than models 1 and 2. This will be 10 epochs."
   ]
  },
  {
   "cell_type": "code",
   "execution_count": 41,
   "id": "485801a9-be11-4441-af5c-98099d60c841",
   "metadata": {},
   "outputs": [
    {
     "name": "stdout",
     "output_type": "stream",
     "text": [
      "Model: \"sequential_2\"\n",
      "_________________________________________________________________\n",
      " Layer (type)                Output Shape              Param #   \n",
      "=================================================================\n",
      " embedding_2 (Embedding)     (None, 50, 32)            589824    \n",
      "                                                                 \n",
      " lstm_4 (LSTM)               (None, 50, 64)            24832     \n",
      "                                                                 \n",
      " batch_normalization_2 (Batc  (None, 50, 64)           256       \n",
      " hNormalization)                                                 \n",
      "                                                                 \n",
      " lstm_5 (LSTM)               (None, 32)                12416     \n",
      "                                                                 \n",
      " batch_normalization_3 (Batc  (None, 32)               128       \n",
      " hNormalization)                                                 \n",
      "                                                                 \n",
      " dense_4 (Dense)             (None, 24)                792       \n",
      "                                                                 \n",
      " dropout_1 (Dropout)         (None, 24)                0         \n",
      "                                                                 \n",
      " dense_5 (Dense)             (None, 1)                 25        \n",
      "                                                                 \n",
      "=================================================================\n",
      "Total params: 628,273\n",
      "Trainable params: 628,081\n",
      "Non-trainable params: 192\n",
      "_________________________________________________________________\n"
     ]
    }
   ],
   "source": [
    "model3 = Sequential()\n",
    "\n",
    "model3.add(Embedding(input_dim = num_words, output_dim = 32, input_length = 50))\n",
    "\n",
    "model3.add(LSTM(64, return_sequences=True))\n",
    "\n",
    "# Normalize to prevent overfitting\n",
    "model3.add(BatchNormalization())\n",
    "\n",
    "model3.add(LSTM(32))\n",
    "\n",
    "# Normalize to prevent overfitting\n",
    "model3.add(BatchNormalization())\n",
    "\n",
    "model3.add(Dense(units=24, activation='relu'))\n",
    "\n",
    "# Dropout layer randomly sets input units to 0 which helps prevent overfitting\n",
    "model3.add(Dropout(0.25))\n",
    "    \n",
    "model3.add(Dense(units=1, activation='sigmoid'))\n",
    "\n",
    "'''\n",
    "We do not need to specify the length of the input sequences since a recurrent neural network can \n",
    "process any number of time steps. This is why we set the first input shape dimension to\n",
    "\"None\".\n",
    "'''\n",
    "model3.build(input_shape=(None, 50))\n",
    "\n",
    "model3.summary()"
   ]
  },
  {
   "cell_type": "markdown",
   "id": "7c426f47-6678-4c2d-86b4-8bb036b6333f",
   "metadata": {},
   "source": [
    " "
   ]
  },
  {
   "cell_type": "markdown",
   "id": "0742b2a4-4dd1-4e5e-b1b1-3b76d242cf3b",
   "metadata": {},
   "source": [
    "Let us set up our testing hyperparameters."
   ]
  },
  {
   "cell_type": "code",
   "execution_count": 43,
   "id": "f866ec70-0909-46c4-9e98-4604cffbb7c7",
   "metadata": {},
   "outputs": [],
   "source": [
    "eta_to_try = [0.0001, 0.001, 0.01]\n",
    "decay_to_try = [0.99, 0.95, 0.90]\n",
    "\n",
    "model3_epochs = 10\n",
    "\n",
    "hpPermutations = list(itertools.product(*[eta_to_try, decay_to_try]))\n",
    "current_best_model = (None, 0)\n",
    "current_best_history = None\n",
    "current_best_hp = None\n",
    "\n",
    "model_accuracies = list()"
   ]
  },
  {
   "cell_type": "markdown",
   "id": "049396e0-bc34-4ae6-b314-3143685fb2a7",
   "metadata": {},
   "source": [
    " "
   ]
  },
  {
   "cell_type": "markdown",
   "id": "97ba6f13-d294-491b-bbf4-4a2f675ab333",
   "metadata": {},
   "source": [
    "Let us now do some automated testing to determine the best hyperparameters."
   ]
  },
  {
   "cell_type": "code",
   "execution_count": 44,
   "id": "fd16259f-dfc1-4718-9d2a-1f4c9af012cc",
   "metadata": {
    "scrolled": true,
    "tags": []
   },
   "outputs": [
    {
     "name": "stdout",
     "output_type": "stream",
     "text": [
      "\n",
      "\n",
      "Now trying hyperparams: learning rate = 0.0001, decay_rate = 0.99, optimizer = Adam\n",
      "Epoch 1/10\n",
      "191/191 [==============================] - 21s 86ms/step - loss: 0.6477 - accuracy: 0.6230 - val_loss: 0.6762 - val_accuracy: 0.5936\n",
      "Epoch 2/10\n",
      "191/191 [==============================] - 15s 79ms/step - loss: 0.4956 - accuracy: 0.7650 - val_loss: 0.9394 - val_accuracy: 0.4064\n",
      "Epoch 3/10\n",
      "191/191 [==============================] - 15s 76ms/step - loss: 0.3688 - accuracy: 0.8463 - val_loss: 0.5252 - val_accuracy: 0.7682\n",
      "Epoch 4/10\n",
      "191/191 [==============================] - 15s 79ms/step - loss: 0.2757 - accuracy: 0.8975 - val_loss: 0.8405 - val_accuracy: 0.7387\n",
      "Epoch 5/10\n",
      "191/191 [==============================] - 15s 76ms/step - loss: 0.1966 - accuracy: 0.9312 - val_loss: 3.3082 - val_accuracy: 0.5955\n",
      "Epoch 6/10\n",
      "191/191 [==============================] - 15s 78ms/step - loss: 0.1438 - accuracy: 0.9521 - val_loss: 7.1347 - val_accuracy: 0.4064\n",
      "Epoch 7/10\n",
      "191/191 [==============================] - 15s 80ms/step - loss: 0.1163 - accuracy: 0.9596 - val_loss: 0.8066 - val_accuracy: 0.7157\n",
      "Epoch 8/10\n",
      "191/191 [==============================] - 15s 78ms/step - loss: 0.0816 - accuracy: 0.9732 - val_loss: 2.0864 - val_accuracy: 0.5272\n",
      "Epoch 9/10\n",
      "191/191 [==============================] - 15s 78ms/step - loss: 0.0719 - accuracy: 0.9778 - val_loss: 6.2695 - val_accuracy: 0.4064\n",
      "Epoch 10/10\n",
      "191/191 [==============================] - 15s 81ms/step - loss: 0.0579 - accuracy: 0.9851 - val_loss: 1.5183 - val_accuracy: 0.7249\n",
      "\n",
      "\n",
      "Now trying hyperparams: learning rate = 0.0001, decay_rate = 0.95, optimizer = Adam\n",
      "Epoch 1/10\n",
      "191/191 [==============================] - 20s 84ms/step - loss: 0.0547 - accuracy: 0.9839 - val_loss: 1.3450 - val_accuracy: 0.6894\n",
      "Epoch 2/10\n",
      "191/191 [==============================] - 15s 78ms/step - loss: 0.0448 - accuracy: 0.9872 - val_loss: 1.1038 - val_accuracy: 0.7078\n",
      "Epoch 3/10\n",
      "191/191 [==============================] - 15s 78ms/step - loss: 0.0451 - accuracy: 0.9862 - val_loss: 1.4171 - val_accuracy: 0.7492\n",
      "Epoch 4/10\n",
      "191/191 [==============================] - 15s 77ms/step - loss: 0.0451 - accuracy: 0.9865 - val_loss: 2.5510 - val_accuracy: 0.5555\n",
      "Epoch 5/10\n",
      "191/191 [==============================] - 15s 77ms/step - loss: 0.0360 - accuracy: 0.9890 - val_loss: 1.9391 - val_accuracy: 0.5863\n",
      "Epoch 6/10\n",
      "191/191 [==============================] - 15s 77ms/step - loss: 0.0365 - accuracy: 0.9877 - val_loss: 5.5435 - val_accuracy: 0.4084\n",
      "Epoch 7/10\n",
      "191/191 [==============================] - 15s 78ms/step - loss: 0.0402 - accuracy: 0.9869 - val_loss: 1.5161 - val_accuracy: 0.7026\n",
      "Epoch 8/10\n",
      "191/191 [==============================] - 15s 78ms/step - loss: 0.0358 - accuracy: 0.9892 - val_loss: 3.8658 - val_accuracy: 0.5023\n",
      "Epoch 9/10\n",
      "191/191 [==============================] - 15s 79ms/step - loss: 0.0340 - accuracy: 0.9898 - val_loss: 1.3865 - val_accuracy: 0.5437\n",
      "Epoch 10/10\n",
      "191/191 [==============================] - 14s 75ms/step - loss: 0.0388 - accuracy: 0.9878 - val_loss: 1.5596 - val_accuracy: 0.7387\n",
      "\n",
      "\n",
      "Now trying hyperparams: learning rate = 0.0001, decay_rate = 0.9, optimizer = Adam\n",
      "Epoch 1/10\n",
      "191/191 [==============================] - 20s 81ms/step - loss: 0.0317 - accuracy: 0.9903 - val_loss: 1.8810 - val_accuracy: 0.6264\n",
      "Epoch 2/10\n",
      "191/191 [==============================] - 15s 79ms/step - loss: 0.0270 - accuracy: 0.9916 - val_loss: 2.2762 - val_accuracy: 0.5410\n",
      "Epoch 3/10\n",
      "191/191 [==============================] - 15s 76ms/step - loss: 0.0289 - accuracy: 0.9920 - val_loss: 1.1721 - val_accuracy: 0.7177\n",
      "Epoch 4/10\n",
      "191/191 [==============================] - 14s 75ms/step - loss: 0.0350 - accuracy: 0.9916 - val_loss: 0.9613 - val_accuracy: 0.6435\n",
      "Epoch 5/10\n",
      "191/191 [==============================] - 15s 78ms/step - loss: 0.0314 - accuracy: 0.9908 - val_loss: 1.9749 - val_accuracy: 0.6467\n",
      "Epoch 6/10\n",
      "191/191 [==============================] - 15s 78ms/step - loss: 0.0272 - accuracy: 0.9913 - val_loss: 1.7088 - val_accuracy: 0.7321\n",
      "Epoch 7/10\n",
      "191/191 [==============================] - 15s 78ms/step - loss: 0.0239 - accuracy: 0.9916 - val_loss: 1.4877 - val_accuracy: 0.7498\n",
      "Epoch 8/10\n",
      "191/191 [==============================] - 15s 78ms/step - loss: 0.0282 - accuracy: 0.9908 - val_loss: 1.6962 - val_accuracy: 0.7190\n",
      "Epoch 9/10\n",
      "191/191 [==============================] - 15s 78ms/step - loss: 0.0275 - accuracy: 0.9920 - val_loss: 1.7024 - val_accuracy: 0.7406\n",
      "Epoch 10/10\n",
      "191/191 [==============================] - 15s 76ms/step - loss: 0.0248 - accuracy: 0.9931 - val_loss: 2.3950 - val_accuracy: 0.6599\n",
      "\n",
      "\n",
      "Now trying hyperparams: learning rate = 0.001, decay_rate = 0.99, optimizer = Adam\n",
      "Epoch 1/10\n",
      "191/191 [==============================] - 20s 83ms/step - loss: 0.2089 - accuracy: 0.9240 - val_loss: 1.7395 - val_accuracy: 0.4064\n",
      "Epoch 2/10\n",
      "191/191 [==============================] - 15s 80ms/step - loss: 0.2035 - accuracy: 0.9197 - val_loss: 7.7348 - val_accuracy: 0.6014\n",
      "Epoch 3/10\n",
      "191/191 [==============================] - 15s 77ms/step - loss: 0.0913 - accuracy: 0.9719 - val_loss: 3.7790 - val_accuracy: 0.4196\n",
      "Epoch 4/10\n",
      "191/191 [==============================] - 15s 79ms/step - loss: 0.0738 - accuracy: 0.9765 - val_loss: 1.3529 - val_accuracy: 0.6126\n",
      "Epoch 5/10\n",
      "191/191 [==============================] - 15s 81ms/step - loss: 0.0734 - accuracy: 0.9762 - val_loss: 5.3739 - val_accuracy: 0.6356\n",
      "Epoch 6/10\n",
      "191/191 [==============================] - 15s 77ms/step - loss: 0.0728 - accuracy: 0.9788 - val_loss: 1.6313 - val_accuracy: 0.4452\n",
      "Epoch 7/10\n",
      "191/191 [==============================] - 15s 77ms/step - loss: 0.0561 - accuracy: 0.9851 - val_loss: 1.2550 - val_accuracy: 0.7781\n",
      "Epoch 8/10\n",
      "191/191 [==============================] - 15s 79ms/step - loss: 0.0384 - accuracy: 0.9882 - val_loss: 1.3884 - val_accuracy: 0.7630\n",
      "Epoch 9/10\n",
      "191/191 [==============================] - 15s 77ms/step - loss: 0.0469 - accuracy: 0.9870 - val_loss: 6.8223 - val_accuracy: 0.6074\n",
      "Epoch 10/10\n",
      "191/191 [==============================] - 15s 77ms/step - loss: 0.0370 - accuracy: 0.9883 - val_loss: 12.7948 - val_accuracy: 0.5936\n",
      "\n",
      "\n",
      "Now trying hyperparams: learning rate = 0.001, decay_rate = 0.95, optimizer = Adam\n",
      "Epoch 1/10\n",
      "191/191 [==============================] - 20s 84ms/step - loss: 0.0462 - accuracy: 0.9872 - val_loss: 4.0892 - val_accuracy: 0.4130\n",
      "Epoch 2/10\n",
      "191/191 [==============================] - 15s 78ms/step - loss: 0.0498 - accuracy: 0.9836 - val_loss: 4.6382 - val_accuracy: 0.4064\n",
      "Epoch 3/10\n",
      "191/191 [==============================] - 15s 77ms/step - loss: 0.0468 - accuracy: 0.9839 - val_loss: 1.1437 - val_accuracy: 0.7045\n",
      "Epoch 4/10\n",
      "191/191 [==============================] - 15s 78ms/step - loss: 0.0375 - accuracy: 0.9860 - val_loss: 2.5979 - val_accuracy: 0.7584\n",
      "Epoch 5/10\n",
      "191/191 [==============================] - 15s 78ms/step - loss: 0.0345 - accuracy: 0.9890 - val_loss: 1.3657 - val_accuracy: 0.7505\n",
      "Epoch 6/10\n",
      "191/191 [==============================] - 14s 76ms/step - loss: 0.0257 - accuracy: 0.9903 - val_loss: 2.4279 - val_accuracy: 0.4097\n",
      "Epoch 7/10\n",
      "191/191 [==============================] - 14s 75ms/step - loss: 0.0220 - accuracy: 0.9918 - val_loss: 1.6281 - val_accuracy: 0.6001\n",
      "Epoch 8/10\n",
      "191/191 [==============================] - 15s 79ms/step - loss: 0.0152 - accuracy: 0.9941 - val_loss: 5.5130 - val_accuracy: 0.5936\n",
      "Epoch 9/10\n",
      "191/191 [==============================] - 15s 77ms/step - loss: 0.0215 - accuracy: 0.9920 - val_loss: 6.1997 - val_accuracy: 0.4064\n",
      "Epoch 10/10\n",
      "191/191 [==============================] - 15s 77ms/step - loss: 0.0310 - accuracy: 0.9895 - val_loss: 0.8947 - val_accuracy: 0.7439\n",
      "\n",
      "\n",
      "Now trying hyperparams: learning rate = 0.001, decay_rate = 0.9, optimizer = Adam\n",
      "Epoch 1/10\n",
      "191/191 [==============================] - 20s 82ms/step - loss: 0.0234 - accuracy: 0.9903 - val_loss: 2.4603 - val_accuracy: 0.6888\n",
      "Epoch 2/10\n",
      "191/191 [==============================] - 15s 77ms/step - loss: 0.0323 - accuracy: 0.9882 - val_loss: 1.4090 - val_accuracy: 0.7781\n",
      "Epoch 3/10\n",
      "191/191 [==============================] - 15s 76ms/step - loss: 0.0301 - accuracy: 0.9888 - val_loss: 6.8588 - val_accuracy: 0.4064\n",
      "Epoch 4/10\n",
      "191/191 [==============================] - 15s 78ms/step - loss: 0.0273 - accuracy: 0.9882 - val_loss: 10.5746 - val_accuracy: 0.5942\n",
      "Epoch 5/10\n",
      "191/191 [==============================] - 15s 79ms/step - loss: 0.0246 - accuracy: 0.9905 - val_loss: 2.3255 - val_accuracy: 0.4163\n",
      "Epoch 6/10\n",
      "191/191 [==============================] - 15s 79ms/step - loss: 0.0239 - accuracy: 0.9905 - val_loss: 1.2541 - val_accuracy: 0.6559\n",
      "Epoch 7/10\n",
      "191/191 [==============================] - 16s 82ms/step - loss: 0.0167 - accuracy: 0.9936 - val_loss: 1.6210 - val_accuracy: 0.7131\n",
      "Epoch 8/10\n",
      "191/191 [==============================] - 15s 80ms/step - loss: 0.0125 - accuracy: 0.9943 - val_loss: 1.6693 - val_accuracy: 0.7728\n",
      "Epoch 9/10\n",
      "191/191 [==============================] - 15s 76ms/step - loss: 0.0150 - accuracy: 0.9936 - val_loss: 1.4021 - val_accuracy: 0.7722\n",
      "Epoch 10/10\n",
      "191/191 [==============================] - 15s 78ms/step - loss: 0.0130 - accuracy: 0.9941 - val_loss: 1.8553 - val_accuracy: 0.6842\n",
      "\n",
      "\n",
      "Now trying hyperparams: learning rate = 0.01, decay_rate = 0.99, optimizer = Adam\n",
      "Epoch 1/10\n",
      "191/191 [==============================] - 20s 85ms/step - loss: 0.3204 - accuracy: 0.8839 - val_loss: 1.1133 - val_accuracy: 0.4064\n",
      "Epoch 2/10\n",
      "191/191 [==============================] - 15s 80ms/step - loss: 0.2447 - accuracy: 0.9115 - val_loss: 0.5116 - val_accuracy: 0.7794\n",
      "Epoch 3/10\n",
      "191/191 [==============================] - 15s 80ms/step - loss: 0.1224 - accuracy: 0.9619 - val_loss: 5.5803 - val_accuracy: 0.5936\n",
      "Epoch 4/10\n",
      "191/191 [==============================] - 15s 79ms/step - loss: 0.0742 - accuracy: 0.9785 - val_loss: 10.8373 - val_accuracy: 0.2403\n",
      "Epoch 5/10\n",
      "191/191 [==============================] - 15s 78ms/step - loss: 0.0505 - accuracy: 0.9833 - val_loss: 1.0826 - val_accuracy: 0.7525\n",
      "Epoch 6/10\n",
      "191/191 [==============================] - 15s 79ms/step - loss: 0.0400 - accuracy: 0.9865 - val_loss: 0.8219 - val_accuracy: 0.7610\n",
      "Epoch 7/10\n",
      "191/191 [==============================] - 15s 79ms/step - loss: 0.0691 - accuracy: 0.9821 - val_loss: 1.1166 - val_accuracy: 0.7492\n",
      "Epoch 8/10\n",
      "191/191 [==============================] - 15s 80ms/step - loss: 0.0560 - accuracy: 0.9824 - val_loss: 1.5014 - val_accuracy: 0.7708\n",
      "Epoch 9/10\n",
      "191/191 [==============================] - 15s 79ms/step - loss: 0.0354 - accuracy: 0.9877 - val_loss: 0.8144 - val_accuracy: 0.7538\n",
      "Epoch 10/10\n",
      "191/191 [==============================] - 15s 80ms/step - loss: 0.0325 - accuracy: 0.9897 - val_loss: 1.3910 - val_accuracy: 0.7748\n",
      "\n",
      "\n",
      "Now trying hyperparams: learning rate = 0.01, decay_rate = 0.95, optimizer = Adam\n",
      "Epoch 1/10\n",
      "191/191 [==============================] - 20s 85ms/step - loss: 0.0406 - accuracy: 0.9869 - val_loss: 1.1730 - val_accuracy: 0.7728\n",
      "Epoch 2/10\n",
      "191/191 [==============================] - 15s 79ms/step - loss: 0.0524 - accuracy: 0.9841 - val_loss: 1.4822 - val_accuracy: 0.7708\n",
      "Epoch 3/10\n",
      "191/191 [==============================] - 15s 80ms/step - loss: 0.0588 - accuracy: 0.9800 - val_loss: 1.1959 - val_accuracy: 0.7564\n",
      "Epoch 4/10\n",
      "191/191 [==============================] - 15s 79ms/step - loss: 0.0491 - accuracy: 0.9824 - val_loss: 1.0822 - val_accuracy: 0.7866\n",
      "Epoch 5/10\n",
      "191/191 [==============================] - 15s 78ms/step - loss: 0.0455 - accuracy: 0.9875 - val_loss: 0.9111 - val_accuracy: 0.7853\n",
      "Epoch 6/10\n",
      "191/191 [==============================] - 15s 80ms/step - loss: 0.0274 - accuracy: 0.9905 - val_loss: 1.7256 - val_accuracy: 0.7859\n",
      "Epoch 7/10\n",
      "191/191 [==============================] - 15s 79ms/step - loss: 0.0247 - accuracy: 0.9905 - val_loss: 1.4982 - val_accuracy: 0.7728\n",
      "Epoch 8/10\n",
      "191/191 [==============================] - 15s 78ms/step - loss: 0.0217 - accuracy: 0.9941 - val_loss: 2.3972 - val_accuracy: 0.7656\n",
      "Epoch 9/10\n",
      "191/191 [==============================] - 15s 81ms/step - loss: 0.0145 - accuracy: 0.9936 - val_loss: 2.1129 - val_accuracy: 0.7689\n",
      "Epoch 10/10\n",
      "191/191 [==============================] - 15s 80ms/step - loss: 0.0219 - accuracy: 0.9916 - val_loss: 2.7944 - val_accuracy: 0.7892\n",
      "\n",
      "\n",
      "Now trying hyperparams: learning rate = 0.01, decay_rate = 0.9, optimizer = Adam\n",
      "Epoch 1/10\n",
      "191/191 [==============================] - 20s 86ms/step - loss: 0.0317 - accuracy: 0.9895 - val_loss: 0.7789 - val_accuracy: 0.7774\n",
      "Epoch 2/10\n",
      "191/191 [==============================] - 14s 75ms/step - loss: 0.0202 - accuracy: 0.9926 - val_loss: 0.7448 - val_accuracy: 0.7794\n",
      "Epoch 3/10\n",
      "191/191 [==============================] - 14s 76ms/step - loss: 0.0299 - accuracy: 0.9911 - val_loss: 1.3940 - val_accuracy: 0.7833\n",
      "Epoch 4/10\n",
      "191/191 [==============================] - 15s 77ms/step - loss: 0.0281 - accuracy: 0.9911 - val_loss: 1.3002 - val_accuracy: 0.7525\n",
      "Epoch 5/10\n",
      "191/191 [==============================] - 15s 78ms/step - loss: 0.0376 - accuracy: 0.9887 - val_loss: 7.2684 - val_accuracy: 0.7216\n",
      "Epoch 6/10\n",
      "191/191 [==============================] - 15s 78ms/step - loss: 0.0337 - accuracy: 0.9903 - val_loss: 1.7791 - val_accuracy: 0.6120\n",
      "Epoch 7/10\n",
      "191/191 [==============================] - 15s 78ms/step - loss: 0.0255 - accuracy: 0.9911 - val_loss: 0.7916 - val_accuracy: 0.7715\n",
      "Epoch 8/10\n",
      "191/191 [==============================] - 15s 79ms/step - loss: 0.0234 - accuracy: 0.9921 - val_loss: 1.5380 - val_accuracy: 0.7768\n",
      "Epoch 9/10\n",
      "191/191 [==============================] - 15s 79ms/step - loss: 0.0748 - accuracy: 0.9885 - val_loss: 2.6406 - val_accuracy: 0.5942\n",
      "Epoch 10/10\n",
      "191/191 [==============================] - 15s 79ms/step - loss: 0.0879 - accuracy: 0.9770 - val_loss: 2.6573 - val_accuracy: 0.7498\n",
      "\n",
      "\n",
      "Now trying hyperparams: learning rate = 0.0001, decay_rate = 0.99, optimizer = RMSprop\n",
      "Epoch 1/10\n",
      "191/191 [==============================] - 24s 101ms/step - loss: 0.0747 - accuracy: 0.9844 - val_loss: 1.8449 - val_accuracy: 0.7505\n",
      "Epoch 2/10\n",
      "191/191 [==============================] - 18s 96ms/step - loss: 0.0784 - accuracy: 0.9844 - val_loss: 1.6872 - val_accuracy: 0.7518\n",
      "Epoch 3/10\n",
      "191/191 [==============================] - 18s 96ms/step - loss: 0.0748 - accuracy: 0.9847 - val_loss: 1.6435 - val_accuracy: 0.7557\n",
      "Epoch 4/10\n",
      "191/191 [==============================] - 18s 97ms/step - loss: 0.0696 - accuracy: 0.9851 - val_loss: 1.6112 - val_accuracy: 0.7557\n",
      "Epoch 5/10\n",
      "191/191 [==============================] - 19s 98ms/step - loss: 0.0640 - accuracy: 0.9851 - val_loss: 1.5801 - val_accuracy: 0.7551\n",
      "Epoch 6/10\n",
      "191/191 [==============================] - 18s 96ms/step - loss: 0.0691 - accuracy: 0.9847 - val_loss: 1.5491 - val_accuracy: 0.7557\n",
      "Epoch 7/10\n",
      "191/191 [==============================] - 19s 97ms/step - loss: 0.0666 - accuracy: 0.9849 - val_loss: 1.5082 - val_accuracy: 0.7564\n",
      "Epoch 8/10\n",
      "191/191 [==============================] - 18s 96ms/step - loss: 0.0601 - accuracy: 0.9842 - val_loss: 1.4952 - val_accuracy: 0.7584\n",
      "Epoch 9/10\n",
      "191/191 [==============================] - 18s 97ms/step - loss: 0.0602 - accuracy: 0.9857 - val_loss: 1.4627 - val_accuracy: 0.7603\n",
      "Epoch 10/10\n",
      "191/191 [==============================] - 19s 98ms/step - loss: 0.0568 - accuracy: 0.9856 - val_loss: 1.4318 - val_accuracy: 0.7610\n",
      "\n",
      "\n",
      "Now trying hyperparams: learning rate = 0.0001, decay_rate = 0.95, optimizer = RMSprop\n",
      "Epoch 1/10\n",
      "191/191 [==============================] - 24s 105ms/step - loss: 0.0542 - accuracy: 0.9857 - val_loss: 1.4528 - val_accuracy: 0.7610\n",
      "Epoch 2/10\n",
      "191/191 [==============================] - 18s 94ms/step - loss: 0.0564 - accuracy: 0.9862 - val_loss: 1.4506 - val_accuracy: 0.7623\n",
      "Epoch 3/10\n",
      "191/191 [==============================] - 19s 97ms/step - loss: 0.0533 - accuracy: 0.9872 - val_loss: 1.4472 - val_accuracy: 0.7636\n",
      "Epoch 4/10\n",
      "191/191 [==============================] - 18s 95ms/step - loss: 0.0517 - accuracy: 0.9880 - val_loss: 1.4492 - val_accuracy: 0.7643\n",
      "Epoch 5/10\n",
      "191/191 [==============================] - 18s 94ms/step - loss: 0.0539 - accuracy: 0.9872 - val_loss: 1.4403 - val_accuracy: 0.7630\n",
      "Epoch 6/10\n",
      "191/191 [==============================] - 18s 94ms/step - loss: 0.0460 - accuracy: 0.9865 - val_loss: 1.4692 - val_accuracy: 0.7643\n",
      "Epoch 7/10\n",
      "191/191 [==============================] - 18s 96ms/step - loss: 0.0489 - accuracy: 0.9875 - val_loss: 1.4639 - val_accuracy: 0.7663\n",
      "Epoch 8/10\n",
      "191/191 [==============================] - 18s 96ms/step - loss: 0.0483 - accuracy: 0.9877 - val_loss: 1.4646 - val_accuracy: 0.7663\n",
      "Epoch 9/10\n",
      "191/191 [==============================] - 19s 98ms/step - loss: 0.0438 - accuracy: 0.9874 - val_loss: 1.4756 - val_accuracy: 0.7663\n",
      "Epoch 10/10\n",
      "191/191 [==============================] - 19s 100ms/step - loss: 0.0489 - accuracy: 0.9880 - val_loss: 1.4506 - val_accuracy: 0.7663\n",
      "\n",
      "\n",
      "Now trying hyperparams: learning rate = 0.0001, decay_rate = 0.9, optimizer = RMSprop\n",
      "Epoch 1/10\n",
      "191/191 [==============================] - 24s 101ms/step - loss: 0.0480 - accuracy: 0.9885 - val_loss: 1.4743 - val_accuracy: 0.7649\n",
      "Epoch 2/10\n",
      "191/191 [==============================] - 19s 99ms/step - loss: 0.0443 - accuracy: 0.9887 - val_loss: 1.4652 - val_accuracy: 0.7656\n",
      "Epoch 3/10\n",
      "191/191 [==============================] - 19s 97ms/step - loss: 0.0471 - accuracy: 0.9885 - val_loss: 1.4902 - val_accuracy: 0.7656\n",
      "Epoch 4/10\n",
      "191/191 [==============================] - 18s 97ms/step - loss: 0.0411 - accuracy: 0.9880 - val_loss: 1.4677 - val_accuracy: 0.7669\n",
      "Epoch 5/10\n",
      "191/191 [==============================] - 18s 97ms/step - loss: 0.0406 - accuracy: 0.9888 - val_loss: 1.4695 - val_accuracy: 0.7676\n",
      "Epoch 6/10\n",
      "191/191 [==============================] - 19s 97ms/step - loss: 0.0417 - accuracy: 0.9895 - val_loss: 1.4815 - val_accuracy: 0.7676\n",
      "Epoch 7/10\n",
      "191/191 [==============================] - 18s 95ms/step - loss: 0.0471 - accuracy: 0.9892 - val_loss: 1.4741 - val_accuracy: 0.7682\n",
      "Epoch 8/10\n",
      "191/191 [==============================] - 19s 98ms/step - loss: 0.0412 - accuracy: 0.9897 - val_loss: 1.4949 - val_accuracy: 0.7689\n",
      "Epoch 9/10\n",
      "191/191 [==============================] - 19s 97ms/step - loss: 0.0418 - accuracy: 0.9900 - val_loss: 1.4989 - val_accuracy: 0.7689\n",
      "Epoch 10/10\n",
      "191/191 [==============================] - 19s 97ms/step - loss: 0.0376 - accuracy: 0.9898 - val_loss: 1.5114 - val_accuracy: 0.7695\n",
      "\n",
      "\n",
      "Now trying hyperparams: learning rate = 0.001, decay_rate = 0.99, optimizer = RMSprop\n",
      "Epoch 1/10\n",
      "191/191 [==============================] - 24s 103ms/step - loss: 0.0414 - accuracy: 0.9890 - val_loss: 1.5870 - val_accuracy: 0.7676\n",
      "Epoch 2/10\n",
      "191/191 [==============================] - 18s 96ms/step - loss: 0.0369 - accuracy: 0.9897 - val_loss: 1.6824 - val_accuracy: 0.7695\n",
      "Epoch 3/10\n",
      "191/191 [==============================] - 18s 95ms/step - loss: 0.0335 - accuracy: 0.9911 - val_loss: 1.8214 - val_accuracy: 0.7676\n",
      "Epoch 4/10\n",
      "191/191 [==============================] - 19s 97ms/step - loss: 0.0341 - accuracy: 0.9906 - val_loss: 1.6292 - val_accuracy: 0.7676\n",
      "Epoch 5/10\n",
      "191/191 [==============================] - 18s 97ms/step - loss: 0.0282 - accuracy: 0.9913 - val_loss: 2.0544 - val_accuracy: 0.7682\n",
      "Epoch 6/10\n",
      "191/191 [==============================] - 19s 97ms/step - loss: 0.0293 - accuracy: 0.9928 - val_loss: 2.0243 - val_accuracy: 0.7682\n",
      "Epoch 7/10\n",
      "191/191 [==============================] - 18s 96ms/step - loss: 0.0281 - accuracy: 0.9923 - val_loss: 1.9670 - val_accuracy: 0.7715\n",
      "Epoch 8/10\n",
      "191/191 [==============================] - 18s 96ms/step - loss: 0.0250 - accuracy: 0.9920 - val_loss: 1.9952 - val_accuracy: 0.7735\n",
      "Epoch 9/10\n",
      "191/191 [==============================] - 19s 98ms/step - loss: 0.0232 - accuracy: 0.9918 - val_loss: 2.3350 - val_accuracy: 0.7708\n",
      "Epoch 10/10\n",
      "191/191 [==============================] - 19s 97ms/step - loss: 0.0220 - accuracy: 0.9921 - val_loss: 2.4298 - val_accuracy: 0.7682\n",
      "\n",
      "\n",
      "Now trying hyperparams: learning rate = 0.001, decay_rate = 0.95, optimizer = RMSprop\n",
      "Epoch 1/10\n",
      "191/191 [==============================] - 24s 101ms/step - loss: 0.0253 - accuracy: 0.9929 - val_loss: 2.8107 - val_accuracy: 0.7728\n",
      "Epoch 2/10\n",
      "191/191 [==============================] - 18s 96ms/step - loss: 0.0262 - accuracy: 0.9934 - val_loss: 2.4987 - val_accuracy: 0.7702\n",
      "Epoch 3/10\n",
      "191/191 [==============================] - 18s 96ms/step - loss: 0.0212 - accuracy: 0.9933 - val_loss: 2.6655 - val_accuracy: 0.7728\n",
      "Epoch 4/10\n",
      "191/191 [==============================] - 19s 97ms/step - loss: 0.0207 - accuracy: 0.9931 - val_loss: 2.5454 - val_accuracy: 0.7682\n",
      "Epoch 5/10\n",
      "191/191 [==============================] - 19s 98ms/step - loss: 0.0213 - accuracy: 0.9933 - val_loss: 2.6416 - val_accuracy: 0.7735\n",
      "Epoch 6/10\n",
      "191/191 [==============================] - 18s 96ms/step - loss: 0.0194 - accuracy: 0.9938 - val_loss: 2.8508 - val_accuracy: 0.7735\n",
      "Epoch 7/10\n",
      "191/191 [==============================] - 19s 97ms/step - loss: 0.0184 - accuracy: 0.9936 - val_loss: 3.0769 - val_accuracy: 0.7748\n",
      "Epoch 8/10\n",
      "191/191 [==============================] - 19s 97ms/step - loss: 0.0210 - accuracy: 0.9938 - val_loss: 3.0327 - val_accuracy: 0.7702\n",
      "Epoch 9/10\n",
      "191/191 [==============================] - 18s 97ms/step - loss: 0.0198 - accuracy: 0.9941 - val_loss: 2.9802 - val_accuracy: 0.7741\n",
      "Epoch 10/10\n",
      "191/191 [==============================] - 18s 96ms/step - loss: 0.0225 - accuracy: 0.9943 - val_loss: 3.0486 - val_accuracy: 0.7741\n",
      "\n",
      "\n",
      "Now trying hyperparams: learning rate = 0.001, decay_rate = 0.9, optimizer = RMSprop\n",
      "Epoch 1/10\n",
      "191/191 [==============================] - 24s 102ms/step - loss: 0.0188 - accuracy: 0.9923 - val_loss: 3.8477 - val_accuracy: 0.7768\n",
      "Epoch 2/10\n",
      "191/191 [==============================] - 19s 97ms/step - loss: 0.0173 - accuracy: 0.9943 - val_loss: 3.5107 - val_accuracy: 0.7708\n",
      "Epoch 3/10\n",
      "191/191 [==============================] - 19s 97ms/step - loss: 0.0211 - accuracy: 0.9934 - val_loss: 3.2087 - val_accuracy: 0.7735\n",
      "Epoch 4/10\n",
      "191/191 [==============================] - 18s 97ms/step - loss: 0.0197 - accuracy: 0.9934 - val_loss: 3.0535 - val_accuracy: 0.7735\n",
      "Epoch 5/10\n",
      "191/191 [==============================] - 19s 99ms/step - loss: 0.0168 - accuracy: 0.9941 - val_loss: 2.9849 - val_accuracy: 0.7728\n",
      "Epoch 6/10\n",
      "191/191 [==============================] - 18s 96ms/step - loss: 0.0146 - accuracy: 0.9946 - val_loss: 3.1609 - val_accuracy: 0.7715\n",
      "Epoch 7/10\n",
      "191/191 [==============================] - 19s 97ms/step - loss: 0.0173 - accuracy: 0.9956 - val_loss: 3.5766 - val_accuracy: 0.7722\n",
      "Epoch 8/10\n",
      "191/191 [==============================] - 19s 98ms/step - loss: 0.0161 - accuracy: 0.9944 - val_loss: 3.8985 - val_accuracy: 0.7656\n",
      "Epoch 9/10\n",
      "191/191 [==============================] - 19s 98ms/step - loss: 0.0163 - accuracy: 0.9939 - val_loss: 3.6452 - val_accuracy: 0.7682\n",
      "Epoch 10/10\n",
      "191/191 [==============================] - 19s 97ms/step - loss: 0.0160 - accuracy: 0.9946 - val_loss: 3.2695 - val_accuracy: 0.7715\n",
      "\n",
      "\n",
      "Now trying hyperparams: learning rate = 0.01, decay_rate = 0.99, optimizer = RMSprop\n",
      "Epoch 1/10\n",
      "191/191 [==============================] - 24s 104ms/step - loss: 0.0700 - accuracy: 0.9885 - val_loss: 2.1747 - val_accuracy: 0.7761\n",
      "Epoch 2/10\n",
      "191/191 [==============================] - 18s 97ms/step - loss: 0.0537 - accuracy: 0.9849 - val_loss: 3.0926 - val_accuracy: 0.7722\n",
      "Epoch 3/10\n",
      "191/191 [==============================] - 19s 99ms/step - loss: 0.0489 - accuracy: 0.9875 - val_loss: 2.8612 - val_accuracy: 0.7695\n",
      "Epoch 4/10\n",
      "191/191 [==============================] - 19s 99ms/step - loss: 0.0397 - accuracy: 0.9895 - val_loss: 3.1283 - val_accuracy: 0.7859\n",
      "Epoch 5/10\n",
      "191/191 [==============================] - 19s 97ms/step - loss: 0.0428 - accuracy: 0.9900 - val_loss: 2.3719 - val_accuracy: 0.7859\n",
      "Epoch 6/10\n",
      "191/191 [==============================] - 18s 97ms/step - loss: 0.0475 - accuracy: 0.9895 - val_loss: 2.1201 - val_accuracy: 0.7630\n",
      "Epoch 7/10\n",
      "191/191 [==============================] - 19s 97ms/step - loss: 0.0381 - accuracy: 0.9906 - val_loss: 2.0968 - val_accuracy: 0.7846\n",
      "Epoch 8/10\n",
      "191/191 [==============================] - 19s 97ms/step - loss: 0.0410 - accuracy: 0.9897 - val_loss: 2.2704 - val_accuracy: 0.7827\n",
      "Epoch 9/10\n",
      "191/191 [==============================] - 19s 98ms/step - loss: 0.0414 - accuracy: 0.9900 - val_loss: 1.4241 - val_accuracy: 0.6041\n",
      "Epoch 10/10\n",
      "191/191 [==============================] - 18s 96ms/step - loss: 0.0651 - accuracy: 0.9856 - val_loss: 1.5862 - val_accuracy: 0.7715\n",
      "\n",
      "\n",
      "Now trying hyperparams: learning rate = 0.01, decay_rate = 0.95, optimizer = RMSprop\n",
      "Epoch 1/10\n",
      "191/191 [==============================] - 24s 104ms/step - loss: 0.0477 - accuracy: 0.9857 - val_loss: 2.2840 - val_accuracy: 0.7741\n",
      "Epoch 2/10\n",
      "191/191 [==============================] - 18s 96ms/step - loss: 0.0424 - accuracy: 0.9918 - val_loss: 2.4262 - val_accuracy: 0.7446\n",
      "Epoch 3/10\n",
      "191/191 [==============================] - 19s 97ms/step - loss: 0.0333 - accuracy: 0.9916 - val_loss: 3.4475 - val_accuracy: 0.7663\n",
      "Epoch 4/10\n",
      "191/191 [==============================] - 19s 97ms/step - loss: 0.0524 - accuracy: 0.9898 - val_loss: 3.0070 - val_accuracy: 0.7768\n",
      "Epoch 5/10\n",
      "191/191 [==============================] - 18s 96ms/step - loss: 0.0421 - accuracy: 0.9875 - val_loss: 2.9639 - val_accuracy: 0.7649\n",
      "Epoch 6/10\n",
      "191/191 [==============================] - 19s 98ms/step - loss: 0.0517 - accuracy: 0.9867 - val_loss: 2.3531 - val_accuracy: 0.7807\n",
      "Epoch 7/10\n",
      "191/191 [==============================] - 18s 96ms/step - loss: 0.0529 - accuracy: 0.9854 - val_loss: 2.5442 - val_accuracy: 0.7807\n",
      "Epoch 8/10\n",
      "191/191 [==============================] - 18s 96ms/step - loss: 0.0558 - accuracy: 0.9857 - val_loss: 2.4612 - val_accuracy: 0.7748\n",
      "Epoch 9/10\n",
      "191/191 [==============================] - 18s 96ms/step - loss: 0.0514 - accuracy: 0.9836 - val_loss: 2.8563 - val_accuracy: 0.7643\n",
      "Epoch 10/10\n",
      "191/191 [==============================] - 18s 96ms/step - loss: 0.0669 - accuracy: 0.9837 - val_loss: 1.3487 - val_accuracy: 0.7682\n",
      "\n",
      "\n",
      "Now trying hyperparams: learning rate = 0.01, decay_rate = 0.9, optimizer = RMSprop\n",
      "Epoch 1/10\n",
      "191/191 [==============================] - 24s 103ms/step - loss: 0.0739 - accuracy: 0.9816 - val_loss: 5.3350 - val_accuracy: 0.7577\n",
      "Epoch 2/10\n",
      "191/191 [==============================] - 18s 96ms/step - loss: 0.0634 - accuracy: 0.9846 - val_loss: 1.7390 - val_accuracy: 0.7669\n",
      "Epoch 3/10\n",
      "191/191 [==============================] - 19s 97ms/step - loss: 0.0657 - accuracy: 0.9839 - val_loss: 2.1040 - val_accuracy: 0.7551\n",
      "Epoch 4/10\n",
      "191/191 [==============================] - 19s 99ms/step - loss: 0.0585 - accuracy: 0.9849 - val_loss: 2.6879 - val_accuracy: 0.7781\n",
      "Epoch 5/10\n",
      "191/191 [==============================] - 19s 98ms/step - loss: 0.0559 - accuracy: 0.9905 - val_loss: 1.6886 - val_accuracy: 0.7761\n",
      "Epoch 6/10\n",
      "191/191 [==============================] - 19s 99ms/step - loss: 0.0668 - accuracy: 0.9877 - val_loss: 2.0152 - val_accuracy: 0.7735\n",
      "Epoch 7/10\n",
      "191/191 [==============================] - 18s 97ms/step - loss: 0.0709 - accuracy: 0.9852 - val_loss: 1.9174 - val_accuracy: 0.7715\n",
      "Epoch 8/10\n",
      "191/191 [==============================] - 18s 96ms/step - loss: 0.0724 - accuracy: 0.9829 - val_loss: 3.2863 - val_accuracy: 0.7472\n",
      "Epoch 9/10\n",
      "191/191 [==============================] - 19s 98ms/step - loss: 0.0720 - accuracy: 0.9865 - val_loss: 1.8535 - val_accuracy: 0.7689\n",
      "Epoch 10/10\n",
      "191/191 [==============================] - 19s 99ms/step - loss: 0.0706 - accuracy: 0.9847 - val_loss: 2.4361 - val_accuracy: 0.7479\n",
      "Total HP optimization time: 51.79 minutes\n"
     ]
    }
   ],
   "source": [
    "startTime3 = time.time()\n",
    "for hpList in hpPermutations:\n",
    "    print(f\"\\n\\nNow trying hyperparams: learning rate = {hpList[0]}, decay_rate = {hpList[1]}, optimizer = Adam\")\n",
    "    this_lr_schedule = tf.keras.optimizers.schedules.ExponentialDecay(initial_learning_rate = hpList[0], decay_steps = 10000, decay_rate = hpList[1])\n",
    "    # Make a learning rate schedule to prevent variance at the end of training.\n",
    "    model3.compile(optimizer = Adam(learning_rate = this_lr_schedule), loss = 'binary_crossentropy', metrics = ['accuracy'])\n",
    "\n",
    "    this_history = model3.fit(x_train, y_train, epochs = model3_epochs, validation_data=[x_val, y_val], callbacks = callbacks_list)\n",
    "    if this_history.history[\"accuracy\"][-1] > current_best_model[1]:\n",
    "        current_best_model = (model3, this_history.history[\"accuracy\"][-1])\n",
    "        current_best_history = this_history.history\n",
    "        current_best_hp = hpList\n",
    "\n",
    "for hpList in hpPermutations:\n",
    "    print(f\"\\n\\nNow trying hyperparams: learning rate = {hpList[0]}, decay_rate = {hpList[1]}, optimizer = RMSprop\")\n",
    "    this_lr_schedule = tf.keras.optimizers.schedules.ExponentialDecay(initial_learning_rate = hpList[0], decay_steps = 10000, decay_rate = hpList[1])\n",
    "    model3.compile(optimizer = RMSprop(learning_rate = this_lr_schedule), loss = 'binary_crossentropy', metrics = ['accuracy'])\n",
    "\n",
    "    this_history = model3.fit(x_train, y_train, epochs = model3_epochs, validation_data=[x_val, y_val], callbacks = callbacks_list)\n",
    "    if this_history.history[\"accuracy\"][-1] > current_best_model[1]:\n",
    "        current_best_model = (model3, this_history.history[\"accuracy\"][-1])\n",
    "        current_best_history = this_history.history\n",
    "        current_best_hp = hpList\n",
    "        \n",
    "endTime3 = time.time()\n",
    "print(\"Total HP optimization time:\", round((endTime3 - startTime3) / 60, 3), \"minutes\")"
   ]
  },
  {
   "cell_type": "markdown",
   "id": "e5ef40f4-28ef-4a15-b956-19640a238f41",
   "metadata": {},
   "source": [
    "  "
   ]
  },
  {
   "cell_type": "markdown",
   "id": "5eb51330-55b0-44bf-9c5a-c713d4da0380",
   "metadata": {},
   "source": [
    "Most of the hyperparameters we tested yield similar results. "
   ]
  },
  {
   "cell_type": "code",
   "execution_count": 45,
   "id": "c96aa270-a162-4cda-9979-484dfa4a39c4",
   "metadata": {},
   "outputs": [
    {
     "name": "stdout",
     "output_type": "stream",
     "text": [
      "The accuracy of the best hyperparameters is 0.995%\n"
     ]
    }
   ],
   "source": [
    "best_model_acc = round(current_best_model[1], 3)\n",
    "\n",
    "print(f\"The accuracy of the best hyperparameters is {best_model_acc}%\")"
   ]
  },
  {
   "cell_type": "code",
   "execution_count": 46,
   "id": "72c5311b-0caf-41c3-b4e6-f65893cf0a50",
   "metadata": {},
   "outputs": [
    {
     "data": {
      "text/plain": [
       "(0.001, 0.9)"
      ]
     },
     "execution_count": 46,
     "metadata": {},
     "output_type": "execute_result"
    }
   ],
   "source": [
    "current_best_hp"
   ]
  },
  {
   "cell_type": "markdown",
   "id": "bd25d9d3-9b72-421c-8094-f4ab11198df9",
   "metadata": {},
   "source": [
    " "
   ]
  },
  {
   "cell_type": "markdown",
   "id": "d09dcbe7-f291-4ee9-a9f4-e379768af5fd",
   "metadata": {},
   "source": [
    "### Model 4: Final Model\n",
    "\n",
    "We will now build the final model using the hyperparameters from the model 3 testing. It will be trained to a maximum of 90 epochs. Callbacks are implemented which may end training prior to the maximum.\n",
    "\n",
    "* Optimizer = Adam\n",
    "* Initial Learning Rate = 0.001\n",
    "* Decay Rate = 0.90"
   ]
  },
  {
   "cell_type": "code",
   "execution_count": 47,
   "id": "7890601b-9151-429b-bf86-984a7b72965d",
   "metadata": {},
   "outputs": [
    {
     "name": "stdout",
     "output_type": "stream",
     "text": [
      "Model: \"sequential_3\"\n",
      "_________________________________________________________________\n",
      " Layer (type)                Output Shape              Param #   \n",
      "=================================================================\n",
      " embedding_3 (Embedding)     (None, 50, 32)            589824    \n",
      "                                                                 \n",
      " lstm_6 (LSTM)               (None, 50, 64)            24832     \n",
      "                                                                 \n",
      " batch_normalization_4 (Batc  (None, 50, 64)           256       \n",
      " hNormalization)                                                 \n",
      "                                                                 \n",
      " lstm_7 (LSTM)               (None, 32)                12416     \n",
      "                                                                 \n",
      " batch_normalization_5 (Batc  (None, 32)               128       \n",
      " hNormalization)                                                 \n",
      "                                                                 \n",
      " dense_6 (Dense)             (None, 24)                792       \n",
      "                                                                 \n",
      " dropout_2 (Dropout)         (None, 24)                0         \n",
      "                                                                 \n",
      " dense_7 (Dense)             (None, 1)                 25        \n",
      "                                                                 \n",
      "=================================================================\n",
      "Total params: 628,273\n",
      "Trainable params: 628,081\n",
      "Non-trainable params: 192\n",
      "_________________________________________________________________\n"
     ]
    }
   ],
   "source": [
    "model4 = Sequential()\n",
    "\n",
    "model4.add(Embedding(input_dim = num_words, output_dim = 32, input_length = 50))\n",
    "\n",
    "model4.add(LSTM(64, return_sequences=True))\n",
    "\n",
    "# Normalize to prevent overfitting\n",
    "model4.add(BatchNormalization())\n",
    "\n",
    "model4.add(LSTM(32))\n",
    "\n",
    "# Normalize to prevent overfitting\n",
    "model4.add(BatchNormalization())\n",
    "\n",
    "model4.add(Dense(units=24, activation='relu'))\n",
    "\n",
    "# Dropout layer randomly sets input units to 0 which helps prevent overfitting\n",
    "model4.add(Dropout(0.25))\n",
    "    \n",
    "model4.add(Dense(units=1, activation='sigmoid'))\n",
    "\n",
    "'''\n",
    "We do not need to specify the length of the input sequences since a recurrent neural network can \n",
    "process any number of time steps. This is why we set the first input shape dimension to\n",
    "\"None\".\n",
    "'''\n",
    "model4.build(input_shape=(None, 50))\n",
    "\n",
    "model4.summary()"
   ]
  },
  {
   "cell_type": "markdown",
   "id": "f78d6d41-f593-4ffc-a71a-259913e26b4a",
   "metadata": {},
   "source": [
    " "
   ]
  },
  {
   "cell_type": "code",
   "execution_count": 50,
   "id": "7f426423-5027-4ff5-87e7-631d8ffe0eb8",
   "metadata": {},
   "outputs": [],
   "source": [
    "callbacks_list =  [tf.keras.callbacks.EarlyStopping(monitor = \"loss\", patience = 10, mode = \"min\")]\n",
    "lr_schedule = tf.keras.optimizers.schedules.ExponentialDecay(initial_learning_rate = 0.001, decay_steps = 10000, decay_rate = 0.90)\n",
    "\n",
    "opt = Adam(learning_rate = lr_schedule)\n",
    "model4_epochs = 90\n",
    "\n",
    "model4.compile(optimizer = opt, loss='binary_crossentropy', metrics=['accuracy'])"
   ]
  },
  {
   "cell_type": "code",
   "execution_count": 51,
   "id": "1bc362ec-923b-47c9-a9d7-e37300709c23",
   "metadata": {},
   "outputs": [
    {
     "name": "stdout",
     "output_type": "stream",
     "text": [
      "Epoch 1/90\n",
      "191/191 [==============================] - 19s 80ms/step - loss: 0.0989 - accuracy: 0.9673 - val_loss: 28.7135 - val_accuracy: 0.4064\n",
      "Epoch 2/90\n",
      "191/191 [==============================] - 15s 77ms/step - loss: 0.0926 - accuracy: 0.9685 - val_loss: 12.1470 - val_accuracy: 0.5936\n",
      "Epoch 3/90\n",
      "191/191 [==============================] - 14s 74ms/step - loss: 0.0761 - accuracy: 0.9741 - val_loss: 6.0551 - val_accuracy: 0.5942\n",
      "Epoch 4/90\n",
      "191/191 [==============================] - 15s 77ms/step - loss: 0.0644 - accuracy: 0.9785 - val_loss: 1.7911 - val_accuracy: 0.6645\n",
      "Epoch 5/90\n",
      "191/191 [==============================] - 15s 80ms/step - loss: 0.0585 - accuracy: 0.9814 - val_loss: 7.5128 - val_accuracy: 0.5942\n",
      "Epoch 6/90\n",
      "191/191 [==============================] - 16s 82ms/step - loss: 0.0468 - accuracy: 0.9841 - val_loss: 2.7194 - val_accuracy: 0.4347\n",
      "Epoch 7/90\n",
      "191/191 [==============================] - 15s 80ms/step - loss: 0.0408 - accuracy: 0.9882 - val_loss: 26.1404 - val_accuracy: 0.4064\n",
      "Epoch 8/90\n",
      "191/191 [==============================] - 15s 80ms/step - loss: 0.0374 - accuracy: 0.9882 - val_loss: 0.8961 - val_accuracy: 0.7190\n",
      "Epoch 9/90\n",
      "191/191 [==============================] - 15s 80ms/step - loss: 0.0424 - accuracy: 0.9877 - val_loss: 3.7261 - val_accuracy: 0.4235\n",
      "Epoch 10/90\n",
      "191/191 [==============================] - 15s 79ms/step - loss: 0.0369 - accuracy: 0.9900 - val_loss: 5.2889 - val_accuracy: 0.4064\n",
      "Epoch 11/90\n",
      "191/191 [==============================] - 14s 76ms/step - loss: 0.0296 - accuracy: 0.9915 - val_loss: 28.4755 - val_accuracy: 0.4064\n",
      "Epoch 12/90\n",
      "191/191 [==============================] - 14s 74ms/step - loss: 0.0353 - accuracy: 0.9892 - val_loss: 1.2604 - val_accuracy: 0.6060\n",
      "Epoch 13/90\n",
      "191/191 [==============================] - 14s 75ms/step - loss: 0.0267 - accuracy: 0.9916 - val_loss: 1.8064 - val_accuracy: 0.7597\n",
      "Epoch 14/90\n",
      "191/191 [==============================] - 15s 77ms/step - loss: 0.0146 - accuracy: 0.9943 - val_loss: 1.3712 - val_accuracy: 0.7715\n",
      "Epoch 15/90\n",
      "191/191 [==============================] - 15s 80ms/step - loss: 0.0151 - accuracy: 0.9946 - val_loss: 1.4735 - val_accuracy: 0.7656\n",
      "Epoch 16/90\n",
      "191/191 [==============================] - 14s 74ms/step - loss: 0.0219 - accuracy: 0.9949 - val_loss: 0.9428 - val_accuracy: 0.7065\n",
      "Epoch 17/90\n",
      "191/191 [==============================] - 14s 73ms/step - loss: 0.0185 - accuracy: 0.9946 - val_loss: 0.9404 - val_accuracy: 0.7728\n",
      "Epoch 18/90\n",
      "191/191 [==============================] - 15s 77ms/step - loss: 0.0267 - accuracy: 0.9929 - val_loss: 21.8950 - val_accuracy: 0.4064\n",
      "Epoch 19/90\n",
      "191/191 [==============================] - 15s 79ms/step - loss: 0.0168 - accuracy: 0.9939 - val_loss: 2.6916 - val_accuracy: 0.7374\n",
      "Epoch 20/90\n",
      "191/191 [==============================] - 15s 79ms/step - loss: 0.0139 - accuracy: 0.9952 - val_loss: 1.8364 - val_accuracy: 0.7754\n",
      "Epoch 21/90\n",
      "191/191 [==============================] - 14s 75ms/step - loss: 0.0144 - accuracy: 0.9939 - val_loss: 5.6059 - val_accuracy: 0.4077\n",
      "Epoch 22/90\n",
      "191/191 [==============================] - 14s 72ms/step - loss: 0.0099 - accuracy: 0.9941 - val_loss: 1.3028 - val_accuracy: 0.7761\n",
      "Epoch 23/90\n",
      "191/191 [==============================] - 14s 75ms/step - loss: 0.0196 - accuracy: 0.9943 - val_loss: 1.0937 - val_accuracy: 0.7295\n",
      "Epoch 24/90\n",
      "191/191 [==============================] - 14s 73ms/step - loss: 0.0161 - accuracy: 0.9933 - val_loss: 4.9768 - val_accuracy: 0.4248\n",
      "Epoch 25/90\n",
      "191/191 [==============================] - 14s 76ms/step - loss: 0.0412 - accuracy: 0.9870 - val_loss: 6.1067 - val_accuracy: 0.4064\n",
      "Epoch 26/90\n",
      "191/191 [==============================] - 15s 77ms/step - loss: 0.0280 - accuracy: 0.9921 - val_loss: 1.2650 - val_accuracy: 0.7301\n",
      "Epoch 27/90\n",
      "191/191 [==============================] - 14s 75ms/step - loss: 0.0207 - accuracy: 0.9931 - val_loss: 1.6139 - val_accuracy: 0.6934\n",
      "Epoch 28/90\n",
      "191/191 [==============================] - 15s 77ms/step - loss: 0.0168 - accuracy: 0.9943 - val_loss: 3.2791 - val_accuracy: 0.7603\n",
      "Epoch 29/90\n",
      "191/191 [==============================] - 15s 77ms/step - loss: 0.0151 - accuracy: 0.9947 - val_loss: 1.3966 - val_accuracy: 0.7144\n",
      "Epoch 30/90\n",
      "191/191 [==============================] - 15s 79ms/step - loss: 0.0125 - accuracy: 0.9943 - val_loss: 2.3353 - val_accuracy: 0.7774\n",
      "Epoch 31/90\n",
      "191/191 [==============================] - 15s 80ms/step - loss: 0.0126 - accuracy: 0.9946 - val_loss: 1.5317 - val_accuracy: 0.7446\n",
      "Epoch 32/90\n",
      "191/191 [==============================] - 15s 77ms/step - loss: 0.0103 - accuracy: 0.9957 - val_loss: 2.0386 - val_accuracy: 0.7761\n"
     ]
    }
   ],
   "source": [
    "startTime4 = time.time()\n",
    "history4 = model4.fit(x_train, y_train, epochs = model4_epochs, validation_data = [x_val, y_val], callbacks = callbacks_list)\n",
    "endTime4 = time.time()"
   ]
  },
  {
   "cell_type": "markdown",
   "id": "20f929de-fa39-40a8-a8cd-13cb2dfe2e1a",
   "metadata": {},
   "source": [
    " "
   ]
  },
  {
   "cell_type": "markdown",
   "id": "08b04aac-6493-44c6-9754-83c9814b730e",
   "metadata": {},
   "source": [
    "## Part 4: Results and Analysis"
   ]
  },
  {
   "cell_type": "markdown",
   "id": "b67f4fec-d229-4bc6-959a-5397f272b61d",
   "metadata": {},
   "source": [
    " "
   ]
  },
  {
   "cell_type": "markdown",
   "id": "b50c3f28-63b6-48a5-8f3e-8af6d86baafa",
   "metadata": {},
   "source": [
    "We will now observe the final results."
   ]
  },
  {
   "cell_type": "code",
   "execution_count": 52,
   "id": "10380adf-0e9a-48cc-9d00-c46bb5848434",
   "metadata": {},
   "outputs": [
    {
     "name": "stdout",
     "output_type": "stream",
     "text": [
      "The final results for model 4:\n",
      "\n",
      "Training Time = 7.924 minutes\n",
      "Accuracy = 0.996\n",
      "Loss = 0.01\n",
      "Validation Accuracy = 0.776\n",
      "Validation Loss = 2.039\n",
      "\n",
      "\n"
     ]
    },
    {
     "data": {
      "text/plain": [
       "<function matplotlib.pyplot.show(close=None, block=None)>"
      ]
     },
     "execution_count": 52,
     "metadata": {},
     "output_type": "execute_result"
    },
    {
     "data": {
      "image/png": "[encoded data removed]",
      "text/plain": [
       "<Figure size 1500x1500 with 4 Axes>"
      ]
     },
     "metadata": {},
     "output_type": "display_data"
    }
   ],
   "source": [
    "used_epochs = len(history4.history[\"accuracy\"])\n",
    "\n",
    "model4_accuracy = round((history4.history[\"accuracy\"][used_epochs - 1]), 3)\n",
    "model4_loss = round((history4.history[\"loss\"][used_epochs - 1]), 3)\n",
    "model4_val_accuracy = round((history4.history[\"val_accuracy\"][used_epochs - 1]), 3)\n",
    "model4_val_loss = round((history4.history[\"val_loss\"][used_epochs - 1]), 3)\n",
    "model4_train_time = round((endTime4 - startTime4) / 60, 3)\n",
    "\n",
    "print(\"The final results for model 4:\")\n",
    "print(f\"\\nTraining Time = {model4_train_time} minutes\")\n",
    "print(f\"Accuracy = {model4_accuracy}\")\n",
    "print(f\"Loss = {model4_loss}\")\n",
    "print(f\"Validation Accuracy = {model4_val_accuracy}\")\n",
    "print(f\"Validation Loss = {model4_val_loss}\\n\\n\")\n",
    "\n",
    "# Initialise the subplot function using number of rows and columns\n",
    "figure, axis = plt.subplots(2, 2)\n",
    "figure.tight_layout(pad = 2)\n",
    "figure.set_figheight(15)\n",
    "figure.set_figwidth(15)\n",
    "\n",
    "# Make a nice visualization of our test model: Training Accuracy Vs. Epoch\n",
    "testAccs = history4.history[\"accuracy\"]\n",
    "epochs = [i for i in range(len(testAccs))]\n",
    "axis[0, 0].plot(epochs, testAccs)\n",
    "axis[0, 0].set_xlabel(\"Epoch\")\n",
    "axis[0, 0].set_ylabel(\"Training Accuracy\")\n",
    "axis[0, 0].set_title(\"Training Accuracy Vs. Epoch\")\n",
    "\n",
    "# Make another nice visualization: Loss Vs. Epoch\n",
    "testLosses = history4.history[\"loss\"]\n",
    "axis[0, 1].plot(epochs, testLosses)\n",
    "axis[0, 1].set_xlabel(\"Epoch\")\n",
    "axis[0, 1].set_ylabel(\"Training Loss\")\n",
    "axis[0, 1].set_title(\"Training Loss Vs. Epoch\")\n",
    "\n",
    "# Make a nice visualization of our test model: Validation Accuracy Vs. Epoch\n",
    "testAccs = history4.history[\"val_accuracy\"]\n",
    "epochs = [i for i in range(len(testAccs))]\n",
    "axis[1, 0].plot(epochs, testAccs)\n",
    "axis[1, 0].set_xlabel(\"Epoch\")\n",
    "axis[1, 0].set_ylabel(\"Validation Accuracy\")\n",
    "axis[1, 0].set_title(\"Validation Accuracy Vs. Epoch\")\n",
    "\n",
    "# Make another nice visualization: Loss Vs. Epoch\n",
    "testLosses = history4.history[\"val_loss\"]\n",
    "axis[1, 1].plot(epochs, testLosses)\n",
    "axis[1, 1].set_xlabel(\"Epoch\")\n",
    "axis[1, 1].set_ylabel(\"Validation Loss\")\n",
    "axis[1, 1].set_title(\"Valiidation Losss Vs. Epoch\")\n",
    "\n",
    "plt.show"
   ]
  },
  {
   "cell_type": "markdown",
   "id": "bf402f0a-2875-44f6-a47a-a592f9f6a9ca",
   "metadata": {},
   "source": [
    "The final tuned model seems to mimic the results of the earlier attempts:\n",
    "\n",
    "* The accuracy on the training set is nearly 100%.\n",
    "* The validation accuracy and loss is quite erratic again. \n",
    "* This model is likely overfitting the training data."
   ]
  },
  {
   "cell_type": "markdown",
   "id": "cb5abe6a-cf72-4bf0-9842-df3748a22c90",
   "metadata": {},
   "source": [
    " "
   ]
  },
  {
   "cell_type": "markdown",
   "id": "5c9c9ddc-5ece-4f8a-8375-04706cc49507",
   "metadata": {},
   "source": [
    "## Part 5: Conclusion"
   ]
  },
  {
   "cell_type": "markdown",
   "id": "a19c7564-d2dd-4e0c-9b25-51361cafaf88",
   "metadata": {},
   "source": [
    " "
   ]
  },
  {
   "cell_type": "markdown",
   "id": "1c8f70d8-deea-4e2c-a742-9826c4e9d22d",
   "metadata": {},
   "source": [
    "In conclusion, we can assume this model will not do well when submitting the predictions to Kaggle. It appears to have significant issues with overfitting the data. Potential reasons for this issue could be:\n",
    "\n",
    "* Only using the Tweets to train the model. We did not make use of the \"keyword\" or \"location\" categories in building our model.\n",
    "* Faults in the data processing of the Tweets. Possibly too much context is lost.\n",
    "* The model is overly simple. It is only two layers deep."
   ]
  },
  {
   "cell_type": "code",
   "execution_count": 53,
   "id": "1b04d1dc-18ac-4fc7-b20f-75026fbd6769",
   "metadata": {},
   "outputs": [
    {
     "data": {
      "text/plain": [
       "array([[   58,    21,     0, ...,     0,     0,     0],\n",
       "       [  430, 11131,   434, ...,     0,     0,     0],\n",
       "       [ 1817,   152,     4, ...,     0,     0,     0],\n",
       "       ...,\n",
       "       [  816,   525,   801, ...,     0,     0,     0],\n",
       "       [ 5140,   240,  1552, ...,     0,     0,     0],\n",
       "       [   86,  3710,     0, ...,     0,     0,     0]], dtype=int32)"
      ]
     },
     "execution_count": 53,
     "metadata": {},
     "output_type": "execute_result"
    }
   ],
   "source": [
    "# tokenize the test dataset like we did for the training set\n",
    "test_token = tokenizer.texts_to_sequences(data_test.text.values)\n",
    "test_token = pad_sequences(test_token, maxlen = 50, padding = 'post')\n",
    "test_token"
   ]
  },
  {
   "cell_type": "code",
   "execution_count": 54,
   "id": "ac318f67-71f3-4d2e-8146-993c006a0ece",
   "metadata": {},
   "outputs": [
    {
     "name": "stdout",
     "output_type": "stream",
     "text": [
      "102/102 [==============================] - 3s 18ms/step\n"
     ]
    },
    {
     "data": {
      "text/plain": [
       "array([[1.2280466e-06],\n",
       "       [2.3314995e-03],\n",
       "       [9.9496484e-01],\n",
       "       ...,\n",
       "       [2.3568012e-02],\n",
       "       [9.8901892e-01],\n",
       "       [1.5734142e-05]], dtype=float32)"
      ]
     },
     "execution_count": 54,
     "metadata": {},
     "output_type": "execute_result"
    }
   ],
   "source": [
    "predictions = model4.predict(test_token)\n",
    "predictions"
   ]
  },
  {
   "cell_type": "code",
   "execution_count": 55,
   "id": "26ec3a83-c12b-4db0-bbeb-8433d056ea25",
   "metadata": {},
   "outputs": [
    {
     "data": {
      "text/plain": [
       "array([1.2280466e-06, 2.3314995e-03, 9.9496484e-01, ..., 2.3568012e-02,\n",
       "       9.8901892e-01, 1.5734142e-05], dtype=float32)"
      ]
     },
     "execution_count": 55,
     "metadata": {},
     "output_type": "execute_result"
    }
   ],
   "source": [
    "pred = np.transpose(predictions)[0]\n",
    "pred"
   ]
  },
  {
   "cell_type": "code",
   "execution_count": 56,
   "id": "a8a6fb5d-6282-48a1-978d-cd6c77d79213",
   "metadata": {},
   "outputs": [
    {
     "data": {
      "text/html": [
       "<div>\n",
       "<style scoped>\n",
       "    .dataframe tbody tr th:only-of-type {\n",
       "        vertical-align: middle;\n",
       "    }\n",
       "\n",
       "    .dataframe tbody tr th {\n",
       "        vertical-align: top;\n",
       "    }\n",
       "\n",
       "    .dataframe thead th {\n",
       "        text-align: right;\n",
       "    }\n",
       "</style>\n",
       "<table border=\"1\" class=\"dataframe\">\n",
       "  <thead>\n",
       "    <tr style=\"text-align: right;\">\n",
       "      <th></th>\n",
       "      <th>id</th>\n",
       "      <th>target</th>\n",
       "    </tr>\n",
       "  </thead>\n",
       "  <tbody>\n",
       "    <tr>\n",
       "      <th>0</th>\n",
       "      <td>0</td>\n",
       "      <td>0</td>\n",
       "    </tr>\n",
       "    <tr>\n",
       "      <th>1</th>\n",
       "      <td>2</td>\n",
       "      <td>0</td>\n",
       "    </tr>\n",
       "    <tr>\n",
       "      <th>2</th>\n",
       "      <td>3</td>\n",
       "      <td>1</td>\n",
       "    </tr>\n",
       "    <tr>\n",
       "      <th>3</th>\n",
       "      <td>9</td>\n",
       "      <td>0</td>\n",
       "    </tr>\n",
       "    <tr>\n",
       "      <th>4</th>\n",
       "      <td>11</td>\n",
       "      <td>1</td>\n",
       "    </tr>\n",
       "  </tbody>\n",
       "</table>\n",
       "</div>"
      ],
      "text/plain": [
       "   id  target\n",
       "0   0       0\n",
       "1   2       0\n",
       "2   3       1\n",
       "3   9       0\n",
       "4  11       1"
      ]
     },
     "execution_count": 56,
     "metadata": {},
     "output_type": "execute_result"
    }
   ],
   "source": [
    "submission_df = pd.DataFrame()\n",
    "submission_df['id'] = data_test['id']\n",
    "submission_df['target'] = list(map(lambda x: 0 if x < 0.5 else 1, pred))\n",
    "submission_df.head()"
   ]
  },
  {
   "cell_type": "code",
   "execution_count": 57,
   "id": "053025d7-9cfb-42e4-b654-87738a73576a",
   "metadata": {},
   "outputs": [
    {
     "data": {
      "text/plain": [
       "0    2721\n",
       "1     542\n",
       "Name: target, dtype: int64"
      ]
     },
     "execution_count": 57,
     "metadata": {},
     "output_type": "execute_result"
    }
   ],
   "source": [
    "submission_df['target'].value_counts()"
   ]
  },
  {
   "cell_type": "code",
   "execution_count": 58,
   "id": "1640fc64-9a5d-4093-aaa7-f21c87ba930b",
   "metadata": {},
   "outputs": [],
   "source": [
    "submission_df.to_csv('submission.csv', index=False)"
   ]
  },
  {
   "cell_type": "markdown",
   "id": "a96d02b3-3fa2-4c01-bfe4-6359bcc252f8",
   "metadata": {},
   "source": [
    "##  Part 6: Reference"
   ]
  },
  {
   "cell_type": "markdown",
   "id": "bc114052-d160-42b1-8a91-443dd4787a8e",
   "metadata": {},
   "source": [
    " "
   ]
  },
  {
   "cell_type": "markdown",
   "id": "0d2538f3-9236-4769-9c31-7ee2b7cbf6d2",
   "metadata": {},
   "source": [
    "* https://www.kaggle.com/code/priteshpatel25/beginners-nlp-disastertweetss\n",
    "* https://www.tensorflow.org/guide/keras/rnn\n",
    "* https://www.kaggle.com/code/mertyldrr/stacked-lstm-tensorflow-2-beginner"
   ]
  },
  {
   "cell_type": "code",
   "execution_count": null,
   "id": "9e3c517d-5a20-40c0-88c7-46829f7ff119",
   "metadata": {},
   "outputs": [],
   "source": []
  }
 ],
 "metadata": {
  "kernelspec": {
   "display_name": "Python 3 (ipykernel)",
   "language": "python",
   "name": "python3"
  },
  "language_info": {
   "codemirror_mode": {
    "name": "ipython",
    "version": 3
   },
   "file_extension": ".py",
   "mimetype": "text/x-python",
   "name": "python",
   "nbconvert_exporter": "python",
   "pygments_lexer": "ipython3",
   "version": "3.10.10"
  }
 },
 "nbformat": 4,
 "nbformat_minor": 5
}
